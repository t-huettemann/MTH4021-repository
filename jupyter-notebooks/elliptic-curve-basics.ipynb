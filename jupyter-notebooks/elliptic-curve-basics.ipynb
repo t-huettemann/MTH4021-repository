{
 "cells": [
  {
   "cell_type": "markdown",
   "metadata": {},
   "source": [
    "# Basic usage <span class=\"tag\" tag-name=\"page\"><span class=\"smallcaps\">page</span></span>\n",
    "\n",
    "## Setting up\n",
    "\n",
    "We need to load the required packages first:"
   ],
   "id": "ff075ec4-29ee-47f1-a36b-c5424918e053"
  },
  {
   "cell_type": "code",
   "execution_count": null,
   "metadata": {},
   "outputs": [],
   "source": [
    "# This installs the required packages.\n",
    "# Don't delete this cell!\n",
    "%pip install gmpy2, primefac\n",
    "%pip install \"git+https://github.com/t-huettemann/MTH4021-repository.git\"\n"
   ],
   "id": "70514926-f64d-4ac3-85fb-b9e62c4f2a17"
  },
  {
   "cell_type": "code",
   "execution_count": null,
   "metadata": {},
   "outputs": [],
   "source": [
    "import rings_and_fields as rf\n",
    "import abelian_groups as ab\n",
    "import elliptic_curves as ec\n"
   ],
   "id": "fe77b503-b62c-44cd-a5f6-817d28a65ed2"
  },
  {
   "cell_type": "markdown",
   "metadata": {},
   "source": [
    "## An elliptic curve over the field $\\mathbb{F}_{19}$\n",
    "\n",
    "We'll work over the prime field $\\mathbb{F}_{19} = \\mathbb{Z}/19$ for a\n",
    "start. We should avoid characteristic 2 and 3, though the packages don't\n",
    "check for that!"
   ],
   "id": "de9f6294-730c-462c-98fc-e5f165e41f8a"
  },
  {
   "cell_type": "code",
   "execution_count": null,
   "metadata": {},
   "outputs": [],
   "source": [
    "F = rf.primefield(19)\n",
    "print(F)\n"
   ],
   "id": "9ac1184b-0210-4505-9264-5ec9a00b9975"
  },
  {
   "cell_type": "markdown",
   "metadata": {},
   "source": [
    "Next we'll define an elliptic curve. For this, we need a polynomial\n",
    "$x^3 + ax + b \\in F[x]$, so we need to define the polynomialring as\n",
    "well. As for the elliptic curve, we need to ensure ourselves that\n",
    "$4a^3+27b^2 \\neq 0 \\in F$, the package does not verify the condition."
   ],
   "id": "e8b65c32-184d-42a5-bc6d-e55bec0e5815"
  },
  {
   "cell_type": "code",
   "execution_count": null,
   "metadata": {},
   "outputs": [],
   "source": [
    "R = rf.polynomialring_over_field(F)\n",
    "a = F(4)\n",
    "b = F(7)\n",
    "print(\"a=\", a)\n",
    "print(\"b=\", b)\n",
    "print(\"4a^3 + 27b^2 = 0 ?\", (4*a.power(3) + 27*b.power(2)).is_zero())\n"
   ],
   "id": "c9916cbf-3dc7-4deb-a49d-2b831cffb9a4"
  },
  {
   "cell_type": "markdown",
   "metadata": {},
   "source": [
    "Good. Now we're ready to define the elliptic curve. We'll then obtain\n",
    "and print the set of its points."
   ],
   "id": "8cac12b8-444f-4676-95c0-09f4e899011e"
  },
  {
   "cell_type": "code",
   "execution_count": null,
   "metadata": {},
   "outputs": [],
   "source": [
    "f = R([b, a, 0, 1])\n",
    "print(\"f=\", f)\n",
    "curve = ec.elliptic_curve(f)\n",
    "print(\"Curve:\", curve)\n",
    "points = curve.points()\n",
    "print(\"The curve given by the polynomial\", f, \"has\", len(points), \"points over\", F)\n",
    "print([str(a) for a in points])\n"
   ],
   "id": "7c4c4194-6bec-4a5d-9e10-b831d9108c58"
  },
  {
   "cell_type": "markdown",
   "metadata": {},
   "source": [
    "Printing `points` requires some trickery as printing the set via\n",
    "`print(points)` actually invokes `repr()` instead of `str(()` on the\n",
    "elements of `points`, which results in rather indigestible output. You\n",
    "can try it yourself (you have been warned).\n",
    "\n",
    "In any case, let's take two of the points on the elliptic curve and\n",
    "compute their sum:"
   ],
   "id": "8fb63c90-d07b-4299-be78-b22ee2ed84dc"
  },
  {
   "cell_type": "code",
   "execution_count": null,
   "metadata": {},
   "outputs": [],
   "source": [
    "A = list(points)[4]\n",
    "B = list(points)[9]\n",
    "print(\"A=\", A)\n",
    "print(\"B=\", B)\n",
    "print(\"A+B=\", A+B)\n"
   ],
   "id": "3e4c0593-422e-49af-8a45-0353729d0674"
  },
  {
   "cell_type": "markdown",
   "metadata": {},
   "source": [
    "As the elliptic curve is a finite group, the element `A` must have\n",
    "finite order, which we can find as follows (using the obvious naive\n",
    "algorithm):"
   ],
   "id": "54151e1e-baa6-4095-9fc2-53087f383314"
  },
  {
   "cell_type": "code",
   "execution_count": null,
   "metadata": {},
   "outputs": [],
   "source": [
    "order = 1\n",
    "Z = A\n",
    "while not(Z.is_zero()):\n",
    "    Z += A\n",
    "    order += 1\n",
    "print(\"The element\", A, \"has order\", order)\n"
   ],
   "id": "dc930cb6-6c95-48d1-bf5e-d2211cee0373"
  },
  {
   "cell_type": "markdown",
   "metadata": {},
   "source": [
    "Note that the neutral element in our group (the set of points of the\n",
    "elliptic curve) is the \"point at infinity\", and `Z.is_zero()` is `True`\n",
    "precisely when `Z` equals this point.\n",
    "\n",
    "## An elliptic curve over the field $\\mathbb{F}_{19^2}$\n",
    "\n",
    "We can also work over arbitrary Galois fields (away from characteristic\n",
    "2 and 3). We'll repeat what we did in the previous example, but using\n",
    "the field $K = \\mathbb{F}_{19^2}$ instead:"
   ],
   "id": "8c6bafce-4cbe-484c-a5e4-8032c50c2701"
  },
  {
   "cell_type": "code",
   "execution_count": null,
   "metadata": {},
   "outputs": [],
   "source": [
    "F = rf.primefield(19)\n",
    "P = rf.polynomialring_over_field(F, 't')\n",
    "m = P([1,0,1])\n",
    "print(f\"The polynomial {m} is irreducible: {m.is_irreducible()}\")\n",
    "K = rf.Galoisfield(m, print_modulus=False)\n",
    "print(G)\n"
   ],
   "id": "783d2ea6-75eb-4ead-871c-25bcb7b8f314"
  },
  {
   "cell_type": "markdown",
   "metadata": {},
   "source": [
    "Next we'll define the elliptic curve, given by the same equation as\n",
    "before."
   ],
   "id": "069b00bd-3194-4d83-8d4b-7bb4aa68eccb"
  },
  {
   "cell_type": "code",
   "execution_count": null,
   "metadata": {},
   "outputs": [],
   "source": [
    "R = rf.polynomialring_over_field(K, 'x', parentheses = ['(', ')'])\n",
    "a = K(4)\n",
    "b = K(7)\n",
    "f = R([b, a, 0, 1])\n",
    "print(\"f=\", f)\n",
    "curve = ec.elliptic_curve(f)\n",
    "print(\"Curve:\", curve)\n",
    "points = curve.points()\n",
    "print(\"The curve given by the polynomial\", f, \"has\", len(points), \"points over\", K)\n",
    "print([str(a) for a in points])\n"
   ],
   "id": "c7bc5a8f-887d-4755-80fc-cc0dab208d0c"
  },
  {
   "cell_type": "markdown",
   "metadata": {},
   "source": [
    "As before, let's take two of the points on the elliptic curve and\n",
    "compute their sum:"
   ],
   "id": "17e124e6-9a21-410c-80b4-6f4ded997584"
  },
  {
   "cell_type": "code",
   "execution_count": null,
   "metadata": {},
   "outputs": [],
   "source": [
    "A = list(points)[204]\n",
    "B = list(points)[96]\n",
    "print(\"A=\", A)\n",
    "print(\"B=\", B)\n",
    "print(\"A+B=\", A+B)\n"
   ],
   "id": "2cc6a963-d1fc-4a8e-8e00-1784414838be"
  },
  {
   "cell_type": "markdown",
   "metadata": {},
   "source": [
    "As the elliptic curve is a finite group, the element `A` must have\n",
    "finite order, which we can find as follows (using the obvious naive\n",
    "algorithm):"
   ],
   "id": "b563323c-7466-4306-8820-0a80483517ae"
  },
  {
   "cell_type": "code",
   "execution_count": null,
   "metadata": {},
   "outputs": [],
   "source": [
    "order = 1\n",
    "Z = A\n",
    "while not(Z.is_zero()):\n",
    "    Z += A\n",
    "    order += 1\n",
    "print(\"The element\", A, \"has order\", order)\n"
   ],
   "id": "ef214ac4-2a70-41c1-b1f1-185251138ed0"
  }
 ],
 "nbformat": 4,
 "nbformat_minor": 5,
 "metadata": {}
}
