{
 "cells": [
  {
   "cell_type": "markdown",
   "metadata": {},
   "source": [
    "# Basics: Working with $\\mathbb{Z}$, $\\mathbb{Q}$, $\\mathbb{Z}/m\\mathbb{Z}$ and $\\mathbb{F}_p$\n",
    "\n",
    "## Run this cell first\n",
    "\n",
    "This cell installs the non-standard Python packages."
   ],
   "id": "2149ca0e-0744-4a4a-aceb-78584b2d818c"
  },
  {
   "cell_type": "code",
   "execution_count": null,
   "metadata": {},
   "outputs": [],
   "source": [
    "# This installs the required packages.\n",
    "# Don't delete this cell!\n",
    "try:\n",
    "  import gmpy2\n",
    "except (ModuleNotFoundError, ImportError):\n",
    "  %pip install gmpy2\n",
    "  import gmpy2\n",
    "\n",
    "try:\n",
    "  import primefac\n",
    "except (ModuleNotFoundError, ImportError):\n",
    "  %pip install primefac\n",
    "  import primefac\n"
   ],
   "id": "7f4c1716-f5ad-46ae-89a5-2b91f92c9718"
  },
  {
   "cell_type": "markdown",
   "metadata": {},
   "source": [
    "## Setting up"
   ],
   "id": "60949052-6b23-400f-b755-d1e4fd81ad1f"
  },
  {
   "cell_type": "code",
   "execution_count": null,
   "metadata": {},
   "outputs": [],
   "source": [
    "try:\n",
    "  import rings_and_fields as rf\n",
    "except (ModuleNotFoundError, ImportError):\n",
    "  %pip install \"git+https://github.com/t-huettemann/MTH4021-repository.git\"\n",
    "  import rings_and_fields as rf\n"
   ],
   "id": "520aada7-7ddc-4b17-9230-4a8fe6bfb085"
  },
  {
   "cell_type": "markdown",
   "metadata": {},
   "source": [
    "## Working with integers and rationals\n",
    "\n",
    "The main point to note is that we need to \"declare\" the rings (that is,\n",
    "create instances of the relevant classes - we need ring objects to work\n",
    "with). Elements of the rings are also instances of classes, and can be\n",
    "created as shown in the following example.\n",
    "\n",
    "Internally, the integer class `fields_and_rings.Z` is a wrapper for the\n",
    "class `gmpy2.mpz`. The methods `div` and `mod` for modular arithmetic\n",
    "call `gmpy2.f_div` and `gmpy2.f_mod`, which means that the quotient is\n",
    "round *down*; bear this in mind when using negative integers."
   ],
   "id": "46dcead1-fb5d-4247-a150-babd4135af43"
  },
  {
   "cell_type": "code",
   "execution_count": null,
   "metadata": {},
   "outputs": [],
   "source": [
    "Z = rf.Z()      # create an object representing the set of integers\n",
    "m = Z(34)       # create an integer\n",
    "n = Z(4)        # and another one\n",
    "print(\"m=\", m)\n",
    "print(\"n=\", n)\n",
    "print(\"3*m + n^8 =\", 3*m + n.power(8))\n",
    "print(\"Division with remainder: m div n =\", m.div(n), \"with remainder\", m.mod(n))\n",
    "print(\"\")\n",
    "Q = rf.Q()      # create an object representing the set of rationals\n",
    "x = Q('3/4')    # create a rational number\n",
    "y = Q('-17/8')  # and another one\n",
    "print(\"x=\", x)\n",
    "print(\"y=\", y)\n",
    "print(\"3*x + y^8 =\", 3*x + y.power(8))\n"
   ],
   "id": "69f1baa6-f520-4da1-8bf7-d5716ab71344"
  },
  {
   "cell_type": "markdown",
   "metadata": {},
   "source": [
    "## Working with $\\mathbb{Z}/m\\mathbb{Z}$: Modular arithmetic\n",
    "\n",
    "As before, we need to declare a ring object, but of course we need to\n",
    "specify the modulus in this case. Let's try out\n",
    "$\\mathbb{Z}/222\\mathbb{Z}$:"
   ],
   "id": "4da1822e-d636-40bd-9241-b598ac60fc45"
  },
  {
   "cell_type": "code",
   "execution_count": null,
   "metadata": {},
   "outputs": [],
   "source": [
    "R = rf.zmod(222)  # create the ring\n",
    "a = R(34)         # create an element of R\n",
    "b = R(40000)      # and another one\n",
    "print(\"a=\", a)\n",
    "print(\"b=\", b)\n",
    "print(\"3*a + b^8 =\", 3*a + b.power(8))\n"
   ],
   "id": "5d57ef83-ca48-451e-803f-11a775dea114"
  },
  {
   "cell_type": "markdown",
   "metadata": {},
   "source": [
    "## Working with $\\mathbb{F}_p$: Finite prime fields\n",
    "\n",
    "We can work with the \"prime fields\" $\\mathbb{F}_p$, for $p$ a prime,\n",
    "just as easily as with $\\mathbb{Z}/p\\mathbb{Z}$, but now we can also\n",
    "divide elements."
   ],
   "id": "9d99debd-0d15-4a50-bc95-cdf488260f6b"
  },
  {
   "cell_type": "code",
   "execution_count": null,
   "metadata": {},
   "outputs": [],
   "source": [
    "F = rf.primefield(59)  # create the field\n",
    "p = F(34)              # create an element of F\n",
    "q = F(40000)           # and another one\n",
    "print(\"p=\", p)\n",
    "print(\"q=\", q)\n",
    "print(\"3*p / b^8 =\", 3*p / q.power(8))\n"
   ],
   "id": "23f2fd15-7b3a-447e-88b5-88a58a5516e5"
  },
  {
   "cell_type": "markdown",
   "metadata": {},
   "source": [
    "## Testing for zero and equality\n",
    "\n",
    "In all rings, you can test elements for being zero with the `is_zero`\n",
    "method. Equality and inequality can be tested as usual using `==` and\n",
    "`!=`. You can get the zero and one element of a ring by calling its\n",
    "methods `zero` and `one`."
   ],
   "id": "16efb564-880e-4daa-92f4-17ba2035594a"
  },
  {
   "cell_type": "code",
   "execution_count": null,
   "metadata": {},
   "outputs": [],
   "source": [
    "zF = F.zero()\n",
    "print(\"p+0=\", p+zF, \"in the field\", F)\n",
    "oR = R.one()\n",
    "print(\"a*1=\", a*oR, \"in the ring\", R)\n",
    "print(\"x != y?\", x != y)\n",
    "print(\"m == 0?\", m.is_zero())\n"
   ],
   "id": "1c13495a-39ee-4f4b-a80f-180a8e790ce7"
  }
 ],
 "nbformat": 4,
 "nbformat_minor": 5,
 "metadata": {}
}
