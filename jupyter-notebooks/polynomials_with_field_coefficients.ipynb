{
 "cells": [
  {
   "cell_type": "markdown",
   "metadata": {},
   "source": [
    "# Polynomials with field coefficients <span class=\"tag\" tag-name=\"page\"><span class=\"smallcaps\">page</span></span>\n",
    "\n",
    "> **Remember to save a copy of the file so that you can edit it.**\n",
    "> (Click \"File\", then \"Save a copy to Drive\")\n",
    "\n",
    "## Installing the required packages"
   ],
   "id": "efba19f2-d381-4796-8ba5-c66b2acbfe28"
  },
  {
   "cell_type": "code",
   "execution_count": null,
   "metadata": {},
   "outputs": [],
   "source": [
    "# This installs the required packages.\n",
    "# Don't delete this cell!\n",
    "%pip install gmpy2\n",
    "%pip install primefac\n",
    "%pip install \"git+https://github.com/t-huettemann/MTH4021-repository-experimental.git#subdirectory=modules/rings_and_fields\"\n"
   ],
   "id": "58147ae8-ca54-4eea-a0be-9a72e0eff3cb"
  },
  {
   "cell_type": "markdown",
   "metadata": {},
   "source": [
    "## Setting up"
   ],
   "id": "b9fd36e9-0517-42af-b6c1-36f99e72307f"
  },
  {
   "cell_type": "code",
   "execution_count": null,
   "metadata": {},
   "outputs": [],
   "source": [
    "import rings_and_fields as rf\n"
   ],
   "id": "d62852cf-f395-4d75-a088-00af354112e5"
  },
  {
   "cell_type": "markdown",
   "metadata": {},
   "source": [
    "## Defining a field\n",
    "\n",
    "We'll work with the field $\\mathbb{F}_{251}$ for illustration. We need\n",
    "to set up two Python objects: `F` representing the field\n",
    "$\\mathbb{F}_{251}$, and `P` representing the polynomial ring\n",
    "$\\mathbb{F}_{251}[x]$."
   ],
   "id": "6582651f-ec7a-4057-bc7f-66138db806a9"
  },
  {
   "cell_type": "code",
   "execution_count": null,
   "metadata": {},
   "outputs": [],
   "source": [
    "F = rf.primefield(251)\n",
    "P = rf.polynomialring_over_field(F)\n",
    "print(\"Prime field of characteristic 251:\", F)\n",
    "print(\"Ring of polynomials with coefficients in F:\", P)\n"
   ],
   "id": "abd8b395-e8af-41ff-90da-ea90befa58b9"
  },
  {
   "cell_type": "markdown",
   "metadata": {},
   "source": [
    "## Defining polynomials, basic calculations"
   ],
   "id": "7a374933-61a5-4e60-9469-9ad3ea958cfa"
  },
  {
   "cell_type": "code",
   "execution_count": null,
   "metadata": {},
   "outputs": [],
   "source": [
    "f = P([27, 0, 12, 203, 33])\n",
    "g = P([5, 127, 200])\n",
    "print(\"f=\", f)\n",
    "print(\"g=\", g)\n"
   ],
   "id": "ad799655-9e06-4065-830f-726efb33c342"
  },
  {
   "cell_type": "code",
   "execution_count": null,
   "metadata": {},
   "outputs": [],
   "source": [
    "print(\"f * g =\", f*g)\n",
    "print(\"f - g =\", f-g)\n",
    "print(\"f^4=\", f.power(4))\n",
    "print(\"g*f = 0?\", g.mult(f).is_zero())\n"
   ],
   "id": "8e4d84a1-04bb-47d5-ab91-0cc319151c30"
  },
  {
   "cell_type": "markdown",
   "metadata": {},
   "source": [
    "You can multiply a polynomial by an integer, so you can write `3*f` or\n",
    "`f*8` without problems."
   ],
   "id": "2ec4d8a5-79c4-4063-ac5c-4e3faedd4e35"
  },
  {
   "cell_type": "code",
   "execution_count": null,
   "metadata": {},
   "outputs": [],
   "source": [
    "print(\"3*f=\", 3*f)\n",
    "print(\"f*8=\", f*8)\n",
    "print(\"120*f=\", 120*f)\n"
   ],
   "id": "72f155ef-a2f6-4d09-aa70-71c117851ade"
  },
  {
   "cell_type": "markdown",
   "metadata": {},
   "source": [
    "## Division with remainder\n",
    "\n",
    "We can divide by *any* non-zero polynomial (as we're working with field\n",
    "coefficients now!). The \"quotient\" is obtained with the method `div`,\n",
    "the \"remainder\" with the method `mod`."
   ],
   "id": "29a6c4be-525e-4946-a0d7-9c6853ac2623"
  },
  {
   "cell_type": "code",
   "execution_count": null,
   "metadata": {},
   "outputs": [],
   "source": [
    "print(\"Is g monic?\", g.is_monic())\n",
    "print(\"Division with remainder: f= g*q + r where\")\n",
    "q = f.div(g)\n",
    "r = f.mod(g)\n",
    "print(\"  q=\", q)\n",
    "print(\"  r=\", r)\n"
   ],
   "id": "eecc82f8-4532-41a4-bcf5-a2e755e58549"
  },
  {
   "cell_type": "code",
   "execution_count": null,
   "metadata": {},
   "outputs": [],
   "source": [
    "print(\"Test this: g*q + r = f?\")\n",
    "print(g*q+r == f)\n"
   ],
   "id": "ddcbf56a-1a0f-429d-bf86-62070253f895"
  },
  {
   "cell_type": "markdown",
   "metadata": {},
   "source": [
    "## Testing irreducibility\n",
    "\n",
    "When working over a finite field, it is possible to check whether a\n",
    "polynomial is irreducible or not (using Rabin's test).\n",
    "\n",
    "Let's try out a small examples over $\\mathbb{F}_{7}$ first. First the\n",
    "necessary set-up:"
   ],
   "id": "758ce2b7-e26e-4d8e-adf5-c969de3ba339"
  },
  {
   "cell_type": "code",
   "execution_count": null,
   "metadata": {},
   "outputs": [],
   "source": [
    "K = rf.primefield(7)\n",
    "print(\"K=\", K)\n",
    "Q = rf.polynomialring_over_field(K)\n",
    "print(\"Q=\", Q)\n"
   ],
   "id": "fc077316-04d8-401d-b1a2-735ec5a1eecc"
  },
  {
   "cell_type": "markdown",
   "metadata": {},
   "source": [
    "We test two fixed polynomials, and also a randomly chosen polynomial of\n",
    "degree at most 3."
   ],
   "id": "e59e3449-432e-48f0-8d20-19322e5452e4"
  },
  {
   "cell_type": "code",
   "execution_count": null,
   "metadata": {},
   "outputs": [],
   "source": [
    "p = Q([1,2,3,4])\n",
    "print(\"p=\", p)\n",
    "print(\"Is the polynomial\", p, \"irreducible?\", p.is_irreducible())\n",
    "q = Q([2,5,0,1])\n",
    "print(\"Is the polynomial\", q, \"irreducible?\", q.is_irreducible())\n",
    "z = Q([K.random_element() for i in range(4)])\n",
    "print(\"Is the polynomial\", z, \"irreducible?\", z.is_irreducible())\n"
   ],
   "id": "9ee732ca-28da-4d7f-99b3-72f94aa12418"
  },
  {
   "cell_type": "markdown",
   "metadata": {},
   "source": [
    "Now let's try some higher-degree examples!"
   ],
   "id": "f913f263-0ad2-4d24-aeb1-d22af7646cae"
  },
  {
   "cell_type": "code",
   "execution_count": null,
   "metadata": {},
   "outputs": [],
   "source": [
    "p1 = Q([4,2,5,6,4,1,3,5,3,1,4,1])\n",
    "print(\"p=\", p)\n",
    "print(\"Is the polynomial\", p1, \"irreducible?\", p1.is_irreducible())\n",
    "q1 = Q([4,2,5,5,4,1,3,5,3,1,4,1])\n",
    "print(\"Is the polynomial\", q1, \"irreducible?\", q1.is_irreducible())\n"
   ],
   "id": "6380f251-c8c7-4cc0-a31b-47a4c792da9a"
  },
  {
   "cell_type": "markdown",
   "metadata": {},
   "source": [
    "## Another example\n",
    "\n",
    "-   $K = \\mathbb{F}_{19}$\n",
    "-   $f = 2x^3 + 4x^2 + 9$\n",
    "-   $g = 14x^2 + 12x + 13$\n",
    "\n",
    "The resultant of $f$ and $g$ is $\\mathrm{Res}_{3,2}(f,g) =\n",
    "228,636 \\equiv 9 \\mod 19$, so $f$ and $g$ do not have a common\n",
    "non-trivial factor.\n",
    "\n",
    "Let's try to check this a bit. Is $228,636 \\equiv 9 \\mod 19$ actually\n",
    "true?"
   ],
   "id": "30a7e56e-9f67-4dbe-b100-b37f343e9e56"
  },
  {
   "cell_type": "code",
   "execution_count": null,
   "metadata": {},
   "outputs": [],
   "source": [
    "L = rf.primefield(19)\n",
    "rr = L(228636)\n",
    "print(rr, \"= 228,636 in the field\", L)\n"
   ],
   "id": "e9570fd3-27ae-49ff-a5da-ecace7881c7d"
  },
  {
   "cell_type": "markdown",
   "metadata": {},
   "source": [
    "Looks good. Let's compute the remainder when dividing $f$ by $g$, to\n",
    "make sure that $g$ isn't a factor of $f$:"
   ],
   "id": "44d60c50-12e4-4851-a786-4fa17cb7d21c"
  },
  {
   "cell_type": "code",
   "execution_count": null,
   "metadata": {},
   "outputs": [],
   "source": [
    "T = rf.polynomialring_over_field(L)\n",
    "f = T([9,0,4,2])\n",
    "print(\"f=\", f)\n",
    "g = T([13,12,14])\n",
    "print(\"g=\", g)\n",
    "print(\"f % g=\", f % g)\n"
   ],
   "id": "a61aaf1c-a75b-4262-b7e6-e258779ba267"
  },
  {
   "cell_type": "markdown",
   "metadata": {},
   "source": [
    "Since the remainder `f % g` is non-zero we know $g \\nmid f$.\n",
    "\n",
    "Let's change tack and check if $f$ has any roots; we'll do this the\n",
    "naive way and simply loop over the elements of the coefficient\n",
    "field $\\mathbb{F}_{19}$, evaluate the polynomial and check whether the\n",
    "result is zero."
   ],
   "id": "7cb66df9-e871-4ba4-b017-5db2d7d366d7"
  },
  {
   "cell_type": "code",
   "execution_count": null,
   "metadata": {},
   "outputs": [],
   "source": [
    "for t in L:\n",
    "    if f.eval(t).is_zero():\n",
    "        print(\"f has root\", t)\n",
    "    else:\n",
    "        print(t, \"is not a root of f\")\n"
   ],
   "id": "0d65edb6-d092-45f6-b623-0e10f0a43d27"
  },
  {
   "cell_type": "markdown",
   "metadata": {},
   "source": [
    "``` example\n",
    "0 is not a root of f\n",
    "1 is not a root of f\n",
    "2 is not a root of f\n",
    "3 is not a root of f\n",
    "4 is not a root of f\n",
    "5 is not a root of f\n",
    "6 is not a root of f\n",
    "7 is not a root of f\n",
    "8 is not a root of f\n",
    "9 is not a root of f\n",
    "10 is not a root of f\n",
    "11 is not a root of f\n",
    "12 is not a root of f\n",
    "13 is not a root of f\n",
    "14 is not a root of f\n",
    "15 is not a root of f\n",
    "16 is not a root of f\n",
    "17 is not a root of f\n",
    "18 is not a root of f\n",
    "```\n",
    "\n",
    "So $f$ has no roots. This actually means that $f$ is irreducible (since\n",
    "$\\deg(f) =3$), and thus can't possibly have a common factor with $g$\n",
    "(such a factor, if non-trivial, would be of degree 1 or 2).\n",
    "\n",
    "## How many polynomials have more than one root?\n",
    "\n",
    "Just for fun, and totally unrelated to the above, let's find the roots\n",
    "(if any) of a higher-degree polynomial:"
   ],
   "id": "5a06f4e9-4310-40a2-a0b6-003c72b7a7bb"
  },
  {
   "cell_type": "code",
   "execution_count": null,
   "metadata": {},
   "outputs": [],
   "source": [
    "h = T([6,2,4,2,0,1,15,1])\n",
    "print(\"h=\", h)\n",
    "roots = []\n",
    "for t in L:\n",
    "    if h.eval(t).is_zero():\n",
    "        roots.append(str(t))\n",
    "print(\"Roots of h:\", roots)\n"
   ],
   "id": "43c70cf6-2bde-418e-bde3-7cb9a7e09539"
  },
  {
   "cell_type": "markdown",
   "metadata": {},
   "source": [
    "It took me a while to find (by random experimentation) a polynomial with\n",
    "more than one root. So how likely is it that a polynomial has more than\n",
    "one root? Let's investigate this numerically, simply enumerating all\n",
    "polynomials and counting how many of the have more than one root. It's\n",
    "of course enough to deal with monic polynomials.\n",
    "\n",
    "We start with monic polynomials of degree 2 as a proof-of-concept:"
   ],
   "id": "b07baef1-5131-4564-afda-21d74120d63c"
  },
  {
   "cell_type": "code",
   "execution_count": null,
   "metadata": {},
   "outputs": [],
   "source": [
    "num = 0\n",
    "tot = 0\n",
    "for a0 in L:\n",
    "    for a1 in L:\n",
    "        tot = tot + 1\n",
    "        h = T([a0,a1,1])\n",
    "        roots = []\n",
    "        for t in L:\n",
    "            if h.eval(t).is_zero():\n",
    "                roots.append(str(t))\n",
    "        if len(roots)>1:\n",
    "            num = num+1\n",
    "print(num, \"of\", tot, \"monic polynomials of degree 2 have more than one root\")\n"
   ],
   "id": "1dce1841-c048-4c73-9e38-75955a82bcd3"
  },
  {
   "cell_type": "markdown",
   "metadata": {},
   "source": [
    "So about 47% of the tested polynomials have more than one root.\n",
    "\n",
    "And since that worked well, let's try with degree 3:"
   ],
   "id": "3194b2de-fb37-4ff2-84f4-ef4d8c93caaa"
  },
  {
   "cell_type": "code",
   "execution_count": null,
   "metadata": {},
   "outputs": [],
   "source": [
    "num = 0\n",
    "tot = 0\n",
    "for a0 in L:\n",
    "    for a1 in L:\n",
    "        for a2 in L:\n",
    "            tot = tot + 1\n",
    "            h = T([a0,a1,a2,1])\n",
    "            roots = []\n",
    "            for t in L:\n",
    "                if h.eval(t).is_zero():\n",
    "                    roots.append(str(t))\n",
    "            if len(roots)>1:\n",
    "                num = num+1\n",
    "print(num, \"of\", tot, \"monic polynomials of degree 3 have more than one root\")\n"
   ],
   "id": "7ded22e7-248d-4a01-80ef-c2ed9005ff69"
  },
  {
   "cell_type": "markdown",
   "metadata": {},
   "source": [
    "So about 19% of the tested polynomials have more than one root!\n",
    "\n",
    "And how about degree 4?"
   ],
   "id": "5b126917-918c-4704-bddb-5a792ce4deb9"
  },
  {
   "cell_type": "code",
   "execution_count": null,
   "metadata": {},
   "outputs": [],
   "source": [
    "num = 0\n",
    "tot = 0\n",
    "for a0 in L:\n",
    "    for a1 in L:\n",
    "        for a2 in L:\n",
    "            for a3 in L:\n",
    "                tot = tot + 1\n",
    "                h = T([a0,a1,a2,a3,1])\n",
    "                roots = []\n",
    "                for t in L:\n",
    "                    if h.eval(t).is_zero():\n",
    "                        roots.append(str(t))\n",
    "                if len(roots)>1:\n",
    "                    num = num+1\n",
    "print(num, \"of\", tot, \"monic polynomials of degree 4 have more than one root\")\n"
   ],
   "id": "a845ae18-07a6-4812-b1ea-ce3349da85b2"
  },
  {
   "cell_type": "markdown",
   "metadata": {},
   "source": [
    "That's a whopping 28% of polynomials with at least one root.\n",
    "\n",
    "**Suggestion**: Try polynomials of degree 5, or even degree 6. Computing\n",
    "times will become quite noticeable but still bearable (I think). What's\n",
    "your prediction?"
   ],
   "id": "46953e0b-b31e-432c-b2ae-9f642fbe5198"
  }
 ],
 "nbformat": 4,
 "nbformat_minor": 5,
 "metadata": {}
}
