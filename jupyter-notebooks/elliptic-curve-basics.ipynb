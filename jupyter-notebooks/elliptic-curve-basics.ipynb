{
 "cells": [
  {
   "cell_type": "markdown",
   "metadata": {},
   "source": [
    "# Basic usage of the `elliptic_curves` module\n",
    "\n",
    "> **Remember to save a copy of the file so that you can edit it.**\n",
    "> (Click \"File\", then \"Save a copy to Drive\")\n",
    "\n",
    "## Installing the required packages"
   ],
   "id": "2b15cac2-c615-49a3-9a24-3858a6bef7bc"
  },
  {
   "cell_type": "code",
   "execution_count": null,
   "metadata": {},
   "outputs": [],
   "source": [
    "# This installs the required packages.\n",
    "# Don't delete this cell!\n",
    "%pip install gmpy2\n",
    "%pip install primefac\n",
    "%pip install \"git+https://github.com/t-huettemann/MTH4021-repository-experimental.git#subdirectory=modules/rings_and_fields\"\n",
    "%pip install \"git+https://github.com/t-huettemann/MTH4021-repository-experimental.git#subdirectory=modules/abelian_groups\"\n",
    "%pip install \"git+https://github.com/t-huettemann/MTH4021-repository-experimental.git#subdirectory=modules/elliptic_curves\"\n"
   ],
   "id": "1397c7bd-77a0-44d5-abeb-a3b1fbfd87d1"
  },
  {
   "cell_type": "markdown",
   "metadata": {},
   "source": [
    "## Setting up\n",
    "\n",
    "We need to load the required packages first:"
   ],
   "id": "98310695-1d83-4335-8321-9f2478350ae3"
  },
  {
   "cell_type": "code",
   "execution_count": null,
   "metadata": {},
   "outputs": [],
   "source": [
    "import rings_and_fields as rf\n",
    "import abelian_groups as ab\n",
    "import elliptic_curves as ec\n"
   ],
   "id": "473ce5c7-5f3a-41ce-8f97-1654f97c2f58"
  },
  {
   "cell_type": "markdown",
   "metadata": {},
   "source": [
    "## An elliptic curve over the field $\\mathbb{F}_{19}$\n",
    "\n",
    "We'll work over the prime field $\\mathbb{F}_{19} = \\mathbb{Z}/19$ for a\n",
    "start. We should avoid characteristic 2 and 3, though the packages don't\n",
    "check for that!"
   ],
   "id": "8aec8ec7-9279-4e7a-a216-a30deb939b1f"
  },
  {
   "cell_type": "code",
   "execution_count": null,
   "metadata": {},
   "outputs": [],
   "source": [
    "F = rf.primefield(19)\n",
    "print(F)\n"
   ],
   "id": "ff77043f-8518-40fc-ac99-17238640443f"
  },
  {
   "cell_type": "markdown",
   "metadata": {},
   "source": [
    "Next we'll define an elliptic curve. For this, we need a polynomial\n",
    "$x^3 + ax + b \\in F[x]$, so we need to define the polynomialring as\n",
    "well. As for the elliptic curve, we need to ensure ourselves that\n",
    "$4a^3+27b^2 \\neq 0 \\in F$, the package does not verify the condition."
   ],
   "id": "0e282b0f-488d-4706-8f6d-4e9a8d32b8b7"
  },
  {
   "cell_type": "code",
   "execution_count": null,
   "metadata": {},
   "outputs": [],
   "source": [
    "R = rf.polynomialring_over_field(F)\n",
    "a = F(4)\n",
    "b = F(7)\n",
    "print(\"a=\", a)\n",
    "print(\"b=\", b)\n",
    "print(\"4a^3 + 27b^2 = 0 ?\", (4*a.power(3) + 27*b.power(2)).is_zero())\n"
   ],
   "id": "b1f6a933-6adc-45ad-a463-029ff7182dd5"
  },
  {
   "cell_type": "markdown",
   "metadata": {},
   "source": [
    "Good. Now we're ready to define the elliptic curve. We'll then obtain\n",
    "and print the set of its points."
   ],
   "id": "b7dcf551-80f1-4b59-a180-91294331a90f"
  },
  {
   "cell_type": "code",
   "execution_count": null,
   "metadata": {},
   "outputs": [],
   "source": [
    "f = R([b, a, 0, 1])\n",
    "print(\"f=\", f)\n",
    "curve = ec.elliptic_curve(f)\n",
    "print(\"Curve:\", curve)\n",
    "points = curve.points()\n",
    "print(\"The curve given by the polynomial\", f, \"has\", len(points), \"points over\", F)\n",
    "print([str(a) for a in points])\n"
   ],
   "id": "af67c3e6-0821-45d7-8b13-39cfd63534c2"
  },
  {
   "cell_type": "markdown",
   "metadata": {},
   "source": [
    "Printing `points` requires some trickery as printing the set via\n",
    "`print(points)` actually invokes `repr()` instead of `str()` on the\n",
    "elements of `points`, which results in rather indigestible output. You\n",
    "can try it yourself (you have been warned).\n",
    "\n",
    "In any case, let's take two of the points on the elliptic curve and\n",
    "compute their sum:"
   ],
   "id": "01764519-9ab5-48df-9db9-1cc0776103d8"
  },
  {
   "cell_type": "code",
   "execution_count": null,
   "metadata": {},
   "outputs": [],
   "source": [
    "A = list(points)[4]\n",
    "B = list(points)[9]\n",
    "print(\"A=\", A)\n",
    "print(\"B=\", B)\n",
    "print(\"A+B=\", A+B)\n"
   ],
   "id": "dec8efc2-3181-4cc2-b2b4-79da3b1a5010"
  },
  {
   "cell_type": "markdown",
   "metadata": {},
   "source": [
    "As the elliptic curve is a finite group, the element `A` must have\n",
    "finite order, which we can find as follows (using the obvious naive\n",
    "algorithm):"
   ],
   "id": "b1c88a76-1c01-447c-9925-6f4713d5c3f1"
  },
  {
   "cell_type": "code",
   "execution_count": null,
   "metadata": {},
   "outputs": [],
   "source": [
    "order = 1\n",
    "Z = A\n",
    "while not(Z.is_zero()):\n",
    "    Z += A\n",
    "    order += 1\n",
    "print(\"The element\", A, \"has order\", order)\n"
   ],
   "id": "fd1d2db0-72f1-46b9-90d5-2a1649e1df6f"
  },
  {
   "cell_type": "markdown",
   "metadata": {},
   "source": [
    "Note that the neutral element in our group (the set of points of the\n",
    "elliptic curve) is the \"point at infinity\", and `Z.is_zero()` is `True`\n",
    "precisely when `Z` equals this point.\n",
    "\n",
    "## An elliptic curve over the field $\\mathbb{F}_{19^2}$\n",
    "\n",
    "We can also work over arbitrary Galois fields (away from characteristic\n",
    "2 and 3). We'll repeat what we did in the previous example, but using\n",
    "the field $K = \\mathbb{F}_{19^2}$ instead:"
   ],
   "id": "ef2122b5-1db4-4e0f-b8d7-dd0d4a420a82"
  },
  {
   "cell_type": "code",
   "execution_count": null,
   "metadata": {},
   "outputs": [],
   "source": [
    "F = rf.primefield(19)\n",
    "P = rf.polynomialring_over_field(F, 't')\n",
    "m = P([1,0,1])\n",
    "print(f\"The polynomial {m} is irreducible: {m.is_irreducible()}\")\n",
    "K = rf.Galoisfield(m, print_modulus=False)\n",
    "print(K)\n"
   ],
   "id": "8037f360-1e6f-45b5-bc17-4256b50e5a55"
  },
  {
   "cell_type": "markdown",
   "metadata": {},
   "source": [
    "Next we'll define the elliptic curve, given by the same equation as\n",
    "before."
   ],
   "id": "77eaa7a1-7e98-4432-9bdf-512c344290b3"
  },
  {
   "cell_type": "code",
   "execution_count": null,
   "metadata": {},
   "outputs": [],
   "source": [
    "R = rf.polynomialring_over_field(K, 'x', parentheses = ['(', ')'])\n",
    "a = K(4)\n",
    "b = K(7)\n",
    "f = R([b, a, 0, 1])\n",
    "print(\"f=\", f)\n",
    "curve = ec.elliptic_curve(f)\n",
    "print(\"Curve:\", curve)\n",
    "points = curve.points()\n",
    "print(\"The curve given by the polynomial\", f, \"has\", len(points), \"points over\", K)\n",
    "print([str(a) for a in points])\n"
   ],
   "id": "908ef8de-8843-411f-aff7-bd2a0d6f7c37"
  },
  {
   "cell_type": "markdown",
   "metadata": {},
   "source": [
    "As before, let's take two of the points on the elliptic curve and\n",
    "compute their sum:"
   ],
   "id": "f9f8b91f-f9e9-47e8-8788-64b1dd098220"
  },
  {
   "cell_type": "code",
   "execution_count": null,
   "metadata": {},
   "outputs": [],
   "source": [
    "A = list(points)[204]\n",
    "B = list(points)[96]\n",
    "print(\"A=\", A)\n",
    "print(\"B=\", B)\n",
    "print(\"A+B=\", A+B)\n"
   ],
   "id": "6f9956c5-af90-4d28-9954-ede12a79f120"
  },
  {
   "cell_type": "markdown",
   "metadata": {},
   "source": [
    "As the elliptic curve is a finite group, the element `A` must have\n",
    "finite order, which we can find as follows (using the obvious naive\n",
    "algorithm):"
   ],
   "id": "f6a18983-d6cc-4676-bf64-317cbedde959"
  },
  {
   "cell_type": "code",
   "execution_count": null,
   "metadata": {},
   "outputs": [],
   "source": [
    "order = 1\n",
    "Z = A\n",
    "while not(Z.is_zero()):\n",
    "    Z += A\n",
    "    order += 1\n",
    "print(\"The element\", A, \"has order\", order)\n"
   ],
   "id": "256fcf8a-4771-4257-b8f1-3062cc6bdff0"
  }
 ],
 "nbformat": 4,
 "nbformat_minor": 5,
 "metadata": {}
}
