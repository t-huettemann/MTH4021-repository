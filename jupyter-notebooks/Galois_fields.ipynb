{
 "cells": [
  {
   "cell_type": "markdown",
   "metadata": {},
   "source": [
    "# Galois fields\n",
    "\n",
    "> **Remember to save a copy of the file so that you can edit it.**\n",
    "> (Click \"File\", then \"Save a copy to Drive\")\n",
    "\n",
    "Galois fields are finite fields of arbitrary prime characteristic $p$,\n",
    "having $q = p^n$ elements. To define the Galois field $GF(p^n)$ we need\n",
    "to have a monic irreducible polynomial of degree $n$ in\n",
    "$\\mathbb{F}_{p}$. Note that the Python package does *not* check whether\n",
    "$p$ is really irreducible as this is very time consuming.\n",
    "\n",
    "## Installing the required packages"
   ],
   "id": "5bb9ff79-b6d4-4c58-b5b6-636b6ff1ec65"
  },
  {
   "cell_type": "code",
   "execution_count": null,
   "metadata": {},
   "outputs": [],
   "source": [
    "# This installs the required packages.\n",
    "# Don't delete this cell!\n",
    "%pip install gmpy2\n",
    "%pip install primefac\n",
    "%pip install \"git+https://github.com/t-huettemann/MTH4021-repository-experimental.git#subdirectory=modules/rings_and_fields\"\n"
   ],
   "id": "1e88f015-3b42-419c-878c-6d1421d38051"
  },
  {
   "cell_type": "markdown",
   "metadata": {},
   "source": [
    "## Setting up"
   ],
   "id": "bb7b1504-87c0-4bd5-af55-7ad5befba8d8"
  },
  {
   "cell_type": "code",
   "execution_count": null,
   "metadata": {},
   "outputs": [],
   "source": [
    "import rings_and_fields as rf\n"
   ],
   "id": "1c0a380d-4ff8-46ff-b845-c96764f568ba"
  },
  {
   "cell_type": "markdown",
   "metadata": {},
   "source": [
    "## Defining the Galois field"
   ],
   "id": "f92a40fe-0b9d-4483-b887-c3bf3eeed420"
  },
  {
   "cell_type": "code",
   "execution_count": null,
   "metadata": {},
   "outputs": [],
   "source": [
    "F = rf.primefield(17)\n",
    "P = rf.polynomialring_over_field(F)\n",
    "m = P([2,13,2,1])\n",
    "print(\"Modulus m=\", m)\n",
    "print([str(m.eval(t)) for t in F])\n"
   ],
   "id": "fd32f2c6-65fe-4601-952a-6c57de682822"
  },
  {
   "cell_type": "markdown",
   "metadata": {},
   "source": [
    "That's good: $m$ has no root, and (being of degree 3) is thus\n",
    "irreducible. Let's define the Galoisfield $GF(17^3)$:"
   ],
   "id": "102a616c-0df7-4fbd-9fc6-1dfd8d9c7de3"
  },
  {
   "cell_type": "code",
   "execution_count": null,
   "metadata": {},
   "outputs": [],
   "source": [
    "G = rf.Galoisfield(m)\n",
    "print(\"G=\", G)\n"
   ],
   "id": "d4ee2c86-dcf2-408f-bd61-993812e5d80c"
  },
  {
   "cell_type": "markdown",
   "metadata": {},
   "source": [
    "This field has $17^3 = 4913$ elements, which are represented by\n",
    "polynomials in the indeterminate $t$. Let's calculate the sum and the\n",
    "product of the non-zero elements - and also the product of two randomly\n",
    "selected elements:"
   ],
   "id": "64d4d541-4040-461d-b6dd-2eacf487c0b6"
  },
  {
   "cell_type": "code",
   "execution_count": null,
   "metadata": {},
   "outputs": [],
   "source": [
    "sum  = G.zero()\n",
    "prod = G.one()\n",
    "for x in G:\n",
    "    if x.is_zero():\n",
    "        pass\n",
    "    else:\n",
    "        sum  = sum  + x\n",
    "        prod = prod * x\n",
    "print(\"Product of non-zero elements is\", prod)\n",
    "print(\"Sum of non-zero elements is\", sum)\n",
    "print(\"Is the sum zero?\", sum.is_zero())\n",
    "print(\"Is the product -1?\", prod == G(-1))\n",
    "a = G.random_element()\n",
    "print(\"Randomly selected element a=\", a)\n",
    "b = G.random_element()\n",
    "print(\"Randomly selected element b=\", b)\n",
    "print(\"a * b =\", a*b)\n"
   ],
   "id": "f4cc091c-0782-473a-a14a-3dec222150be"
  },
  {
   "cell_type": "markdown",
   "metadata": {},
   "source": [
    "## Another Galois field: $GF(2^{11})$\n",
    "\n",
    "We'll try the field with 2048 elements next. We represent the Galois\n",
    "field as $GF(2^{11}) = \\mathbb{F}_2[x]/(x^{11} + x^{10} + x^6 + x^5 +\n",
    "1)$; the given polynomial is irreducible, it is taken from [Peterson's\n",
    "table of irreducible polynomials over\n",
    "GF(2)](Https://redirect.cs.umbc.edu/~lomonaco/f97/442/Peterson_Table.html)."
   ],
   "id": "ba909fea-192f-43f5-b66f-d5ddf9fd5ed8"
  },
  {
   "cell_type": "code",
   "execution_count": null,
   "metadata": {},
   "outputs": [],
   "source": [
    "K = rf.primefield(2)\n",
    "Q = rf.polynomialring_over_field(K, i='t')\n",
    "m2 = Q([1,0,0,0,0,1,1,0,0,0,1,1]) # this is irreducible - taken from a table\n",
    "G2 = rf.Galoisfield(m2, print_modulus=False)\n",
    "sum  = G2.zero()\n",
    "prod = G2.one()\n",
    "for x in G2:\n",
    "    if x.is_zero:\n",
    "        pass\n",
    "    else:\n",
    "        sum  = sum  + x\n",
    "        prod = prod * x\n",
    "print(\"Product of non-zero elements in\", G2, \"is\", prod)\n",
    "print(\"Sum of non-zero elements in\", G2, \"is\", sum)\n"
   ],
   "id": "091b6a3d-1e78-4ea3-b433-b8f98c029f69"
  },
  {
   "cell_type": "markdown",
   "metadata": {},
   "source": [
    "Let's do some irreducibility testing in this field:"
   ],
   "id": "80547f25-25c9-4c25-a977-cfe01afac418"
  },
  {
   "cell_type": "code",
   "execution_count": null,
   "metadata": {},
   "outputs": [],
   "source": [
    "PP = rf.polynomialring_over_field(G2, parentheses=['(', ')'])\n",
    "q1 = PP([1,2,G2([0,1,0,1]), G2([1,1])])\n",
    "q2 = PP([1,G2([1,1,0,1]),G2([0,0,1,1]), G2([1,1,0,0,1])])\n",
    "#q1 = PP([1,1,0,1])\n",
    "print(q1, \"irreducible?\", q1.is_irreducible())\n",
    "print(q2, \"irreducible?\", q2.is_irreducible())\n"
   ],
   "id": "7039d676-c35a-45bf-a64b-e85cd1a4354d"
  },
  {
   "cell_type": "markdown",
   "metadata": {},
   "source": [
    "## Now try it yourself\n",
    "\n",
    "Define the Galois field $GF(5^3)$ as the quotient $\\mathbb{F}_{5}/(f)$\n",
    "with $f = x^5 - x - 1$. Don't forget to check that the polynomial is\n",
    "irreducible using `f.is_irreducible()`. Then sum up the *squares* of the\n",
    "elements of $GF(5^3)$. What do you get?\n",
    "\n",
    "You can use the code block below for your experiments."
   ],
   "id": "b70643dd-8b0b-4f82-aed7-cd8d8321a1b1"
  },
  {
   "cell_type": "code",
   "execution_count": null,
   "metadata": {},
   "outputs": [],
   "source": [
    "K = rf.primefield(5)\n",
    "P = rf.polynomialring_over_field(K)\n",
    "f = P([ define the polynomial here ])\n",
    "\n",
    "Output f here,\n",
    "and check that f is irrecducible.\n",
    "\n",
    "G = rf.Galoisfield(f, parentheses=['(', ')'])\n",
    "s = G.zero()\n",
    "for t in G:\n",
    "    add the square of t to s; use t*t or t.pow(2) for squaring if t**2 does not work.\n",
    "Then output s.\n"
   ],
   "id": "dcb795c9-d6c0-4a72-9466-839388571159"
  }
 ],
 "nbformat": 4,
 "nbformat_minor": 5,
 "metadata": {}
}
