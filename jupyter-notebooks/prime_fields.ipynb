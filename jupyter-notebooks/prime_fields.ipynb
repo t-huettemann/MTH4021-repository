{
 "cells": [
  {
   "cell_type": "markdown",
   "metadata": {},
   "source": [
    "# Prime fields\n",
    "\n",
    "> **Remember to save a copy of the file so that you can edit it.**\n",
    "> (Click \"File\", then \"Save a copy to Drive\")\n",
    "\n",
    "There's a built-in class to model $\\mathbb{Q}$, and built-in support for\n",
    "finite prime fields (which are of the form $\\mathbb{F}_p =\n",
    "\\mathbb{Z}/p$, for some prime $p$).\n",
    "\n",
    "## Installing the required packages"
   ],
   "id": "e81f193a-7e81-4051-8a7c-50e1dc86b431"
  },
  {
   "cell_type": "code",
   "execution_count": null,
   "metadata": {},
   "outputs": [],
   "source": [
    "# This installs the required packages.\n",
    "# Don't delete this cell!\n",
    "%pip install gmpy2\n",
    "%pip install primefac\n",
    "%pip install \"git+https://github.com/t-huettemann/MTH4021-repository-experimental.git#subdirectory=modules/rings_and_fields\"\n"
   ],
   "id": "f08b7db3-f80c-4cd4-ab9f-abd1bc101c30"
  },
  {
   "cell_type": "markdown",
   "metadata": {},
   "source": [
    "## Setting up"
   ],
   "id": "40d75e17-13a4-4f94-9255-37ee3d5be146"
  },
  {
   "cell_type": "code",
   "execution_count": null,
   "metadata": {},
   "outputs": [],
   "source": [
    "import rings_and_fields as rf\n"
   ],
   "id": "93a6a80e-0646-4781-b7c1-d42edbee8d14"
  },
  {
   "cell_type": "markdown",
   "metadata": {},
   "source": [
    "## Characteristic 0: Working with rational numbers"
   ],
   "id": "a315783f-bd3d-472c-99f7-b6f454303eda"
  },
  {
   "cell_type": "code",
   "execution_count": null,
   "metadata": {},
   "outputs": [],
   "source": [
    "Q = rf.Q()\n",
    "print(\"Q =\", Q)\n",
    "x = Q('7/11')\n",
    "y = Q(3)\n",
    "z = Q(-9)\n",
    "print(\"y / z =\", y, \"/\", z, \"=\", y/z)\n",
    "print(\"x + y =\", x, \"+\", y, \"=\", x+y)\n",
    "print(\"11x =\", 11*x)\n",
    "print(\"y * 2/5 =\", y*Q('2/5'))\n"
   ],
   "id": "3353ad3f-0282-408d-9ac8-dd21ee7a1460"
  },
  {
   "cell_type": "markdown",
   "metadata": {},
   "source": [
    "## Characteristic $p$: Working with finite prime fields\n",
    "\n",
    "This uses the class `primefield`. The constructor takes a single\n",
    "element, a prime number; note that the package `primefac` is used to\n",
    "verify that the argument is indeed a prime (at least with overwhelming\n",
    "probability). This may take some time if the prime is really large."
   ],
   "id": "0246a988-a4d3-4b7a-a554-76862e2f156b"
  },
  {
   "cell_type": "code",
   "execution_count": null,
   "metadata": {},
   "outputs": [],
   "source": [
    "F = rf.primefield(37)\n",
    "print(\"F =\", F)\n",
    "a = F(12)\n",
    "b = F(25)\n",
    "print(\"a * b =\", a, \"*\", b, \"=\", a*b)\n",
    "print(\"a / b =\", a, \"/\", b, \"=\", a/b)\n"
   ],
   "id": "36eb32bb-b37a-4bb4-a35a-9889a8947b44"
  }
 ],
 "nbformat": 4,
 "nbformat_minor": 5,
 "metadata": {}
}
