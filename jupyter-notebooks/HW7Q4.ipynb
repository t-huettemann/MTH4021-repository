{
 "cells": [
  {
   "cell_type": "markdown",
   "metadata": {},
   "source": [
    "# Sandpit for Homework 7, Q4 (iv)\n",
    "\n",
    "> **Remember to save a copy of the file so that you can edit it.**\n",
    "> (Click \"File\", then \"Save a copy to Drive\")\n",
    "\n",
    "This is a \"sandpit\" for trying out Homework 7, Question 4 (iv).\n",
    "\n",
    "## Installing the required packages"
   ],
   "id": "8b9853a9-18d4-4d7e-9961-c889c7622714"
  },
  {
   "cell_type": "code",
   "execution_count": null,
   "metadata": {},
   "outputs": [],
   "source": [
    "# This installs the required packages.\n",
    "# Don't delete this cell!\n",
    "%pip install gmpy2\n",
    "%pip install primefac\n",
    "%pip install \"git+https://github.com/t-huettemann/MTH4021-repository-experimental.git#subdirectory=modules/rings_and_fields\"\n"
   ],
   "id": "43481571-b099-4bde-b559-446605316504"
  },
  {
   "cell_type": "markdown",
   "metadata": {},
   "source": [
    "## Setting up"
   ],
   "id": "11f97b3e-cd04-4c6e-ad70-223c690e4575"
  },
  {
   "cell_type": "code",
   "execution_count": null,
   "metadata": {},
   "outputs": [],
   "source": [
    "import rings_and_fields as rf\n"
   ],
   "id": "f370b664-365f-4199-b022-e2b8823b330d"
  },
  {
   "cell_type": "markdown",
   "metadata": {},
   "source": [
    "## Defining the Galois field\n",
    "\n",
    "For demonstration, we'll work with the Galois field $GF(9) =\n",
    "\\mathbb{F}_{3}[i]/(i^2+1)$. (We use the indeterminate $i$ instead of $x$\n",
    "to emphasise the similarity with complex numbers.) Actually we'll check\n",
    "if the polynomial $i^2+1$ is indeed irreducible, just to be sure."
   ],
   "id": "187d1a49-ac9b-44c6-9a6e-5ac82b5cd8b3"
  },
  {
   "cell_type": "code",
   "execution_count": null,
   "metadata": {},
   "outputs": [],
   "source": [
    "F = rf.primefield(3)\n",
    "P = rf.polynomialring_over_field(F, i=\"i\") # we use the indeterminate \"i\" here\n",
    "                                           # so elements of the Galois field\n",
    "                                           # will look like \"complex numbers\n",
    "                                           # over F_3\"\n",
    "m = P([1,0,1])   #  this defines the polynomial 1 + i^2 in P,\n",
    "                 #  specified as a list of coefficients\n",
    "                 #  starting with the constant coefficient\n",
    "print(\"Modulus m=\", m)\n",
    "print(\"m is irreducible:\", m.is_irreducible())\n",
    "K = rf.Galoisfield(m, print_modulus = False)\n",
    "print(\"K=\", K)\n"
   ],
   "id": "491b0b33-5de2-4224-bb0b-e890d8bd8559"
  },
  {
   "cell_type": "markdown",
   "metadata": {},
   "source": [
    "## Some computations related to part (ii)\n",
    "\n",
    "We know (from the homework question) that $z \\in GF(9)$ is a generator\n",
    "if and only if $z^4 \\neq 1$. We can check the specific element\n",
    "represented by $i-1$:"
   ],
   "id": "1d257c87-0291-4754-8efd-f6d94f321c08"
  },
  {
   "cell_type": "code",
   "execution_count": null,
   "metadata": {},
   "outputs": [],
   "source": [
    "z = K([-1,1]) # the element is specified as a list\n",
    "              # of coefficients of a polynomial,\n",
    "              # with the constant coefficient coming first.\n",
    "if z.power(4).is_one():\n",
    "    print(\"No luck:\", \"z=\", z, \"is not a generator.\")\n",
    "else:\n",
    "    print(\"Success:\", \"z=\", z, \"is a generator.\")\n"
   ],
   "id": "dfd17f07-74a1-4497-b164-86cd5aeda352"
  },
  {
   "cell_type": "markdown",
   "metadata": {},
   "source": [
    "We could also check *all* non-zero elements of our Galois field, because\n",
    "we can iterate over the elements of $GF(9)$. And since we're at it, we\n",
    "can also *count* the number of generators:"
   ],
   "id": "f1175100-df32-4fc4-ba89-7ffec3cd167b"
  },
  {
   "cell_type": "code",
   "execution_count": null,
   "metadata": {},
   "outputs": [],
   "source": [
    "n = 0\n",
    "for z in K:\n",
    "    if z.is_zero():\n",
    "        continue   # 0 is never a generator, it's not a unit!\n",
    "    if z.power(4).is_one():\n",
    "        print(\"No luck:\", \"z=\", z, \"is not a generator.\")\n",
    "    else:\n",
    "        print(\"Success:\", \"z=\", z, \"is a generator.\")\n",
    "        n += 1\n",
    "print(f\"There are {n} generators.\")\n"
   ],
   "id": "bf2001d0-afcc-498a-a1b9-dc9605e55163"
  },
  {
   "cell_type": "markdown",
   "metadata": {},
   "source": [
    "## Try it yourself!\n",
    "\n",
    "And here you can try to do the calculations for part (iv) in Python, or\n",
    "of course you can edit and adapt the code above.\n",
    "\n",
    "The task is to\n",
    "\n",
    "-   define the Galois field $GF(3^4)$ as\n",
    "    $\\mathbb{F}_{3}[x]/(x^4+2x^3+x^2+x+2)$,\n",
    "\n",
    "-   verify that the element represented by $x^3+2x^2+1$ is a generator\n",
    "    of $K^{\\times}$,\n",
    "\n",
    "-   and verify that the element represented by $2x^3+2x^2+2x+1$ is *not*\n",
    "    a generator.\n",
    "\n",
    "Have fun!"
   ],
   "id": "968ad7fb-1c02-491b-a8be-1585aa5a3d2e"
  },
  {
   "cell_type": "code",
   "execution_count": null,
   "metadata": {},
   "outputs": [],
   "source": [
    "# Enter your code here\n"
   ],
   "id": "c41895eb-a729-454e-a676-26a3279e4353"
  }
 ],
 "nbformat": 4,
 "nbformat_minor": 5,
 "metadata": {}
}
