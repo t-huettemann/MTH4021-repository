{
 "cells": [
  {
   "cell_type": "markdown",
   "metadata": {},
   "source": [
    "# Polynomials with $\\mathbb{Z}$-coefficients\n",
    "\n",
    "> **Remember to save a copy of the file so that you can edit it.**\n",
    "> (Click \"File\", then \"Save a copy to Drive\")\n",
    "\n",
    "## Installing the required packages"
   ],
   "id": "38e90dd2-eb5a-45a2-b1a1-840ac954d4c3"
  },
  {
   "cell_type": "code",
   "execution_count": null,
   "metadata": {},
   "outputs": [],
   "source": [
    "# This installs the required packages.\n",
    "# Don't delete this cell!\n",
    "%pip install gmpy2\n",
    "%pip install primefac\n",
    "%pip install \"git+https://github.com/t-huettemann/MTH4021-repository-experimental.git#subdirectory=modules/rings_and_fields\"\n"
   ],
   "id": "a9b2b87d-86cd-465d-8174-aa522e198fe3"
  },
  {
   "cell_type": "markdown",
   "metadata": {},
   "source": [
    "## Setting up\n",
    "\n",
    "We need to load the required packages first:"
   ],
   "id": "46806c22-bfa6-4c14-b6d6-5dee21aa0914"
  },
  {
   "cell_type": "code",
   "execution_count": null,
   "metadata": {},
   "outputs": [],
   "source": [
    "import rings_and_fields as rf\n"
   ],
   "id": "c4ef73e7-6ba4-4b44-b5d9-4fdc36ef00af"
  },
  {
   "cell_type": "markdown",
   "metadata": {},
   "source": [
    "## Defining the relevant rings"
   ],
   "id": "a3f7f1d4-0393-424e-9b5e-3fb5eba5490f"
  },
  {
   "cell_type": "code",
   "execution_count": null,
   "metadata": {},
   "outputs": [],
   "source": [
    "Z = rf.Z()\n",
    "P = rf.polynomialring(Z)\n",
    "print(\"Ring of integers:\", Z)\n",
    "print(\"Ring of polynomials with integer coefficients:\", P)\n"
   ],
   "id": "1aeb18b7-c53a-4e22-a510-0d11c9aac8a0"
  },
  {
   "cell_type": "markdown",
   "metadata": {},
   "source": [
    "## Defining polynomials, basic calculations"
   ],
   "id": "95623ed4-4e96-4e1e-8764-6061caab1716"
  },
  {
   "cell_type": "code",
   "execution_count": null,
   "metadata": {},
   "outputs": [],
   "source": [
    "f = P([3,0,2,-1,13])\n",
    "g = P([5,-1, 1])\n",
    "print(\"f=\", f)\n",
    "print(\"g=\", g)\n"
   ],
   "id": "6cd60496-b201-4efb-b072-7e12efe48b4c"
  },
  {
   "cell_type": "code",
   "execution_count": null,
   "metadata": {},
   "outputs": [],
   "source": [
    "print(\"f * g =\", f*g)\n",
    "print(\"f - g =\", f-g)\n",
    "print(\"f^5=\", f.power(5))\n",
    "print(\"Maybe g*f = 0?\", g.mult(f).is_zero())\n"
   ],
   "id": "903500af-b122-4b6f-9c38-30af24d0ac40"
  },
  {
   "cell_type": "markdown",
   "metadata": {},
   "source": [
    "You can multiply a polynomial by an integer, so you can write `3*f` or\n",
    "`f*8` without problems."
   ],
   "id": "06a13d6c-873c-4911-a4d8-434ee5023954"
  },
  {
   "cell_type": "code",
   "execution_count": null,
   "metadata": {},
   "outputs": [],
   "source": [
    "print(\"3*f=\", 3*f)\n",
    "print(\"f*8=\", f*8)\n"
   ],
   "id": "98b27ca2-154a-4d25-90f8-d772cfa73e44"
  },
  {
   "cell_type": "markdown",
   "metadata": {},
   "source": [
    "## Division with remainder\n",
    "\n",
    "We can divide by *monic* polynomials; the \"quotient\" is obtained with\n",
    "the method `div`, the \"remainder\" with the method `mod`.\n",
    "\n",
    "To check whether a polynomial is monic, we can use the method\n",
    "`is_monic`."
   ],
   "id": "6c336f47-4402-4492-97a6-2235d8546a08"
  },
  {
   "cell_type": "code",
   "execution_count": null,
   "metadata": {},
   "outputs": [],
   "source": [
    "print(\"Is f monic?  f.is_monic()=\", f.is_monic())\n",
    "print(\"Is g monic?  g.is_monic()=\", g.is_monic())\n"
   ],
   "id": "402a801b-20c9-4f41-bce2-1f75e21dcfda"
  },
  {
   "cell_type": "code",
   "execution_count": null,
   "metadata": {},
   "outputs": [],
   "source": [
    "print(\"Division with remainder: f= g*q + r where\")\n",
    "q = f.div(g)\n",
    "r = f.mod(g)\n",
    "print(\"  q=\", q)\n",
    "print(\"  r=\", r)\n"
   ],
   "id": "be52081e-f817-4056-b425-c65c4269e4f1"
  },
  {
   "cell_type": "code",
   "execution_count": null,
   "metadata": {},
   "outputs": [],
   "source": [
    "print(\"Test this: g*q + r == f?\")\n",
    "print(g*q+r == f)\n"
   ],
   "id": "e15ad2e8-8718-4af7-824e-fb63b15628cc"
  },
  {
   "cell_type": "markdown",
   "metadata": {},
   "source": [
    "However, dividing by a polynomial that is not monic results in a error:"
   ],
   "id": "9b23bf42-56b4-4374-ac3f-675fb80d5465"
  },
  {
   "cell_type": "code",
   "execution_count": null,
   "metadata": {},
   "outputs": [],
   "source": [
    "print(\"Try to divide g by the polynomial f.\")\n",
    "print(\"This will fail since f is not monic. Error message:\")\n",
    "h = g.div(f)\n",
    "print(\"  g div f=\", r)\n"
   ],
   "id": "e53202de-953e-4ae3-9ced-f12b155362c9"
  }
 ],
 "nbformat": 4,
 "nbformat_minor": 5,
 "metadata": {}
}
