{
 "cells": [
  {
   "cell_type": "markdown",
   "metadata": {},
   "source": [
    "# Sandpit for Homework 7, Q4 (iv)\n",
    "\n",
    "> **Remember to save a copy of the file so that you can edit it.**\n",
    "> (Click \"File\", then \"Save a copy to Drive\")\n",
    "\n",
    "This is a \"sandpit\" for trying out Homework 7, Question 4 (iv).\n",
    "\n",
    "## Installing the required packages"
   ],
   "id": "cbd4e8ee-5abe-488e-b751-002272b0317c"
  },
  {
   "cell_type": "code",
   "execution_count": null,
   "metadata": {},
   "outputs": [],
   "source": [
    "# This installs the required packages.\n",
    "# Don't delete this cell!\n",
    "%pip install gmpy2\n",
    "%pip install primefac\n",
    "%pip install \"git+https://github.com/t-huettemann/MTH4021-repository-experimental.git#subdirectory=modules/rings_and_fields\"\n"
   ],
   "id": "f62c91ce-0ee5-47a3-bce5-db36d54dda98"
  },
  {
   "cell_type": "markdown",
   "metadata": {},
   "source": [
    "## Setting up"
   ],
   "id": "49e199a1-7bfa-4586-a05d-57b0125662a6"
  },
  {
   "cell_type": "code",
   "execution_count": null,
   "metadata": {},
   "outputs": [],
   "source": [
    "import rings_and_fields as rf\n"
   ],
   "id": "95cba715-340d-4681-8f01-3958580ee7a4"
  },
  {
   "cell_type": "markdown",
   "metadata": {},
   "source": [
    "## Defining the Galois field\n",
    "\n",
    "For demonstration, we'll work with the Galois field $GF(9) =\n",
    "\\mathbb{F}_{3}[x]/(x^2+1)$. Actually we'll check if the polynomial\n",
    "$x^2+1$ is indeed irreducible, just to be sure."
   ],
   "id": "0adcd9c6-5b0d-4f1d-b8f3-5c050cdfb3bb"
  },
  {
   "cell_type": "code",
   "execution_count": null,
   "metadata": {},
   "outputs": [],
   "source": [
    "F = rf.primefield(3)\n",
    "P = rf.polynomialring_over_field(F)\n",
    "m = P([1,0,1])   #  this defines a polynomial in P,\n",
    "                 #  specified as a list of coefficients\n",
    "                 #  starting with the constant coefficient\n",
    "print(\"Modulus m=\", m)\n",
    "print(\"m is irreducible:\", m.is_irreducible())\n",
    "K = rf.Galoisfield(m)\n",
    "print(\"K=\", K)\n"
   ],
   "id": "da8602b7-ab39-4981-ba7b-08b23571ddd8"
  },
  {
   "cell_type": "markdown",
   "metadata": {},
   "source": [
    "## Some computations related to part (ii)\n",
    "\n",
    "We know (from the homework question) that $z \\in GF(9)$ is a generator\n",
    "if and only if $z^4 \\neq 1$. We can check the specific element\n",
    "represented by $x-1$:"
   ],
   "id": "808e3c61-26af-4755-8d1d-a3205eb5a948"
  },
  {
   "cell_type": "code",
   "execution_count": null,
   "metadata": {},
   "outputs": [],
   "source": [
    "z = K([-1,1])\n",
    "if z.power(4).is_one():\n",
    "    print(\"No luck:\", \"z=\", z, \"is not a generator.\")\n",
    "else:\n",
    "    print(\"Success:\", \"z=\", z, \"is a generator.\")\n"
   ],
   "id": "84860966-ec4f-4081-9391-a2222691780c"
  },
  {
   "cell_type": "markdown",
   "metadata": {},
   "source": [
    "We could also check *all* elements of our Galois field, because we can\n",
    "iterate over the elements of $GF(9)$:"
   ],
   "id": "440ebf1c-4567-4b05-a9ea-7616abc57232"
  },
  {
   "cell_type": "code",
   "execution_count": null,
   "metadata": {},
   "outputs": [],
   "source": [
    "for z in K:\n",
    "    if z.power(4).is_one():\n",
    "        print(\"No luck:\", \"z=\", z, \"is not a generator.\")\n",
    "    else:\n",
    "        print(\"Success:\", \"z=\", z, \"is a generator.\")    \n"
   ],
   "id": "160d6c8d-fe23-450c-b758-36d525f9fbb2"
  },
  {
   "cell_type": "markdown",
   "metadata": {},
   "source": [
    "## Try yourself!\n",
    "\n",
    "And here you can try to do the calculations for part (iv) in Python, or\n",
    "of course you can edit and adapt the code above. Have fun!"
   ],
   "id": "603ce093-abeb-4145-aa03-cea5a9f4e61d"
  },
  {
   "cell_type": "code",
   "execution_count": null,
   "metadata": {},
   "outputs": [],
   "source": [
    "# Enter your code here\n"
   ],
   "id": "77cba967-8dd9-4816-8b06-6c744a80f5a4"
  }
 ],
 "nbformat": 4,
 "nbformat_minor": 5,
 "metadata": {}
}
