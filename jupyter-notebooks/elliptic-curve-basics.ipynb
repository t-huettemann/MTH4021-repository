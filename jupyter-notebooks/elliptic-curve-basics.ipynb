{
 "cells": [
  {
   "cell_type": "markdown",
   "metadata": {},
   "source": [
    "# Basic usage <span class=\"tag\" tag-name=\"page\"><span class=\"smallcaps\">page</span></span>\n",
    "\n",
    "## Setting up\n",
    "\n",
    "We need to load the required packages first:"
   ],
   "id": "99bb3133-45fe-40df-91a9-acf3a1f4e2b9"
  },
  {
   "cell_type": "code",
   "execution_count": null,
   "metadata": {},
   "outputs": [],
   "source": [
    "# This installs the required packages.\n",
    "# Don't delete this cell!\n",
    "%pip install gmpy2\n",
    "%pip install primefac\n",
    "%pip install \"git+https://github.com/t-huettemann/MTH4021-repository.git#subdirectory=modules\"\n"
   ],
   "id": "8206b87f-d1fb-4fdc-bdcb-7364a5295ad1"
  },
  {
   "cell_type": "code",
   "execution_count": null,
   "metadata": {},
   "outputs": [],
   "source": [
    "import MTH4021.rings_and_fields as rf\n",
    "import MTH4021.abelian_groups as ab\n",
    "import MTH4021.elliptic_curves as ec\n"
   ],
   "id": "b91e8bbf-a6f5-43e2-9fb8-b139c1b4b8d5"
  },
  {
   "cell_type": "markdown",
   "metadata": {},
   "source": [
    "## An elliptic curve over the field $\\mathbb{F}_{19}$\n",
    "\n",
    "We'll work over the prime field $\\mathbb{F}_{19} = \\mathbb{Z}/19$ for a\n",
    "start. We should avoid characteristic 2 and 3, though the packages don't\n",
    "check for that!"
   ],
   "id": "c4a73f39-69dd-4a80-a9fc-b43c5d03bb40"
  },
  {
   "cell_type": "code",
   "execution_count": null,
   "metadata": {},
   "outputs": [],
   "source": [
    "F = rf.primefield(19)\n",
    "print(F)\n"
   ],
   "id": "696afbcd-17d9-4459-8a3c-3b63c03cb84c"
  },
  {
   "cell_type": "markdown",
   "metadata": {},
   "source": [
    "Next we'll define an elliptic curve. For this, we need a polynomial\n",
    "$x^3 + ax + b \\in F[x]$, so we need to define the polynomialring as\n",
    "well. As for the elliptic curve, we need to ensure ourselves that\n",
    "$4a^3+27b^2 \\neq 0 \\in F$, the package does not verify the condition."
   ],
   "id": "8efa6176-ed91-4b42-b204-1d7db6e9c681"
  },
  {
   "cell_type": "code",
   "execution_count": null,
   "metadata": {},
   "outputs": [],
   "source": [
    "R = rf.polynomialring_over_field(F)\n",
    "a = F(4)\n",
    "b = F(7)\n",
    "print(\"a=\", a)\n",
    "print(\"b=\", b)\n",
    "print(\"4a^3 + 27b^2 = 0 ?\", (4*a.power(3) + 27*b.power(2)).is_zero())\n"
   ],
   "id": "46d9f318-fc82-4419-ae54-992d93898878"
  },
  {
   "cell_type": "markdown",
   "metadata": {},
   "source": [
    "Good. Now we're ready to define the elliptic curve. We'll then obtain\n",
    "and print the set of its points."
   ],
   "id": "9f6d9eb7-04ea-4ebf-9eda-d4777af52a82"
  },
  {
   "cell_type": "code",
   "execution_count": null,
   "metadata": {},
   "outputs": [],
   "source": [
    "f = R([b, a, 0, 1])\n",
    "print(\"f=\", f)\n",
    "curve = ec.elliptic_curve(f)\n",
    "print(\"Curve:\", curve)\n",
    "points = curve.points()\n",
    "print(\"The curve given by the polynomial\", f, \"has\", len(points), \"points over\", F)\n",
    "print([str(a) for a in points])\n"
   ],
   "id": "2dd3398e-f32e-4382-881d-7b8fdef8d920"
  },
  {
   "cell_type": "markdown",
   "metadata": {},
   "source": [
    "Printing `points` requires some trickery as printing the set via\n",
    "`print(points)` actually invokes `repr()` instead of `str(()` on the\n",
    "elements of `points`, which results in rather indigestible output. You\n",
    "can try it yourself (you have been warned).\n",
    "\n",
    "In any case, let's take two of the points on the elliptic curve and\n",
    "compute their sum:"
   ],
   "id": "70074dd6-25ca-46c2-85ce-24c05fc4020f"
  },
  {
   "cell_type": "code",
   "execution_count": null,
   "metadata": {},
   "outputs": [],
   "source": [
    "A = list(points)[4]\n",
    "B = list(points)[9]\n",
    "print(\"A=\", A)\n",
    "print(\"B=\", B)\n",
    "print(\"A+B=\", A+B)\n"
   ],
   "id": "154224c3-046b-4835-97ed-ef26c9c4c59d"
  },
  {
   "cell_type": "markdown",
   "metadata": {},
   "source": [
    "As the elliptic curve is a finite group, the element `A` must have\n",
    "finite order, which we can find as follows (using the obvious naive\n",
    "algorithm):"
   ],
   "id": "c4f19095-2d8c-45a3-8472-c367f09fee93"
  },
  {
   "cell_type": "code",
   "execution_count": null,
   "metadata": {},
   "outputs": [],
   "source": [
    "order = 1\n",
    "Z = A\n",
    "while not(Z.is_zero()):\n",
    "    Z += A\n",
    "    order += 1\n",
    "print(\"The element\", A, \"has order\", order)\n"
   ],
   "id": "e7661171-fe32-45ed-9629-475abb213828"
  },
  {
   "cell_type": "markdown",
   "metadata": {},
   "source": [
    "Note that the neutral element in our group (the set of points of the\n",
    "elliptic curve) is the \"point at infinity\", and `Z.is_zero()` is `True`\n",
    "precisely when `Z` equals this point.\n",
    "\n",
    "## An elliptic curve over the field $\\mathbb{F}_{19^2}$\n",
    "\n",
    "We can also work over arbitrary Galois fields (away from characteristic\n",
    "2 and 3). We'll repeat what we did in the previous example, but using\n",
    "the field $K = \\mathbb{F}_{19^2}$ instead:"
   ],
   "id": "44214431-0df1-4002-9ce4-98d99b568ba9"
  },
  {
   "cell_type": "code",
   "execution_count": null,
   "metadata": {},
   "outputs": [],
   "source": [
    "F = rf.primefield(19)\n",
    "P = rf.polynomialring_over_field(F, 't')\n",
    "m = P([1,0,1])\n",
    "print(f\"The polynomial {m} is irreducible: {m.is_irreducible()}\")\n",
    "K = rf.Galoisfield(m, print_modulus=False)\n",
    "print(G)\n"
   ],
   "id": "d17cf1e0-1639-4235-851e-d6d89ad54b50"
  },
  {
   "cell_type": "markdown",
   "metadata": {},
   "source": [
    "Next we'll define the elliptic curve, given by the same equation as\n",
    "before."
   ],
   "id": "2ed82f90-d6d9-44ba-8523-8349eb6ca4da"
  },
  {
   "cell_type": "code",
   "execution_count": null,
   "metadata": {},
   "outputs": [],
   "source": [
    "R = rf.polynomialring_over_field(K, 'x', parentheses = ['(', ')'])\n",
    "a = K(4)\n",
    "b = K(7)\n",
    "f = R([b, a, 0, 1])\n",
    "print(\"f=\", f)\n",
    "curve = ec.elliptic_curve(f)\n",
    "print(\"Curve:\", curve)\n",
    "points = curve.points()\n",
    "print(\"The curve given by the polynomial\", f, \"has\", len(points), \"points over\", K)\n",
    "print([str(a) for a in points])\n"
   ],
   "id": "577b92fc-290e-418a-a945-64e6dcf7d4b4"
  },
  {
   "cell_type": "markdown",
   "metadata": {},
   "source": [
    "As before, let's take two of the points on the elliptic curve and\n",
    "compute their sum:"
   ],
   "id": "5cabfeaa-10ce-4955-a4f4-3a7004c0435a"
  },
  {
   "cell_type": "code",
   "execution_count": null,
   "metadata": {},
   "outputs": [],
   "source": [
    "A = list(points)[204]\n",
    "B = list(points)[96]\n",
    "print(\"A=\", A)\n",
    "print(\"B=\", B)\n",
    "print(\"A+B=\", A+B)\n"
   ],
   "id": "ae7fb5a1-87f2-4f0c-91f5-f01bb3fee114"
  },
  {
   "cell_type": "markdown",
   "metadata": {},
   "source": [
    "As the elliptic curve is a finite group, the element `A` must have\n",
    "finite order, which we can find as follows (using the obvious naive\n",
    "algorithm):"
   ],
   "id": "1f7f35a8-c1d0-4ed1-bb35-04f8a5eeb025"
  },
  {
   "cell_type": "code",
   "execution_count": null,
   "metadata": {},
   "outputs": [],
   "source": [
    "order = 1\n",
    "Z = A\n",
    "while not(Z.is_zero()):\n",
    "    Z += A\n",
    "    order += 1\n",
    "print(\"The element\", A, \"has order\", order)\n"
   ],
   "id": "7d7876da-8271-4237-a38c-92870b23a8e3"
  }
 ],
 "nbformat": 4,
 "nbformat_minor": 5,
 "metadata": {}
}
