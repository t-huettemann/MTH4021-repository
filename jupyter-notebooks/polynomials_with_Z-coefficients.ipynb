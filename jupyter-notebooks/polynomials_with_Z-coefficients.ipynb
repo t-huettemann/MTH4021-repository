{
 "cells": [
  {
   "cell_type": "markdown",
   "metadata": {},
   "source": [
    "# Polynomials with $\\mathbb{Z}$-coefficients\n",
    "\n",
    "## Setting up\n",
    "\n",
    "We need to load the required packages first:"
   ],
   "id": "9578c60b-80b0-4611-9426-c2a94b8de117"
  },
  {
   "cell_type": "code",
   "execution_count": null,
   "metadata": {},
   "outputs": [],
   "source": [
    "# This installs the required packages.\n",
    "# Don't delete this cell!\n",
    "%pip install gmpy2\n",
    "%pip install primefac\n",
    "%pip install \"git+https://github.com/t-huettemann/MTH4021-repository-experimental.git#subdirectory=modules/rings_and_fields\"\n"
   ],
   "id": "663886b5-abbf-4344-9df4-0b5a1cd3b3c5"
  },
  {
   "cell_type": "code",
   "execution_count": null,
   "metadata": {},
   "outputs": [],
   "source": [
    "import rings_and_fields as rf\n"
   ],
   "id": "46a01172-7b9d-41ed-8214-4f1bdfc6587a"
  },
  {
   "cell_type": "markdown",
   "metadata": {},
   "source": [
    "## Defining the relevant rings"
   ],
   "id": "10d57b67-8fa0-4e51-9754-474e7708a6c2"
  },
  {
   "cell_type": "code",
   "execution_count": null,
   "metadata": {},
   "outputs": [],
   "source": [
    "Z = rf.Z()\n",
    "P = rf.polynomialring(Z)\n",
    "print(\"Ring of integers:\", Z)\n",
    "print(\"Ring of polynomials with integer coefficients:\", P)\n"
   ],
   "id": "212dace8-90c8-476f-a7bf-23fc5725cbfb"
  },
  {
   "cell_type": "markdown",
   "metadata": {},
   "source": [
    "## Defining polynomials, basic calculations"
   ],
   "id": "1fcbdee9-315e-4b27-a030-5b818975ce70"
  },
  {
   "cell_type": "code",
   "execution_count": null,
   "metadata": {},
   "outputs": [],
   "source": [
    "f = P([3,0,2,-1,13])\n",
    "g = P([5,-1, 1])\n",
    "print(\"f=\", f)\n",
    "print(\"g=\", g)\n"
   ],
   "id": "60866576-0fee-4912-8810-8c2f72284c90"
  },
  {
   "cell_type": "code",
   "execution_count": null,
   "metadata": {},
   "outputs": [],
   "source": [
    "print(\"f * g =\", f*g)\n",
    "print(\"f - g =\", f-g)\n",
    "print(\"f^5=\", f.power(5))\n",
    "print(\"Maybe g*f = 0?\", g.mult(f).is_zero())\n"
   ],
   "id": "8554f73b-8d37-4f5e-9e06-5f77c2ea730f"
  },
  {
   "cell_type": "markdown",
   "metadata": {},
   "source": [
    "You can multiply a polynomial by an integer, so you can write `3*f` or\n",
    "`f*8` without problems."
   ],
   "id": "1a81348c-56bb-49e4-9d3e-0d2eef2e90c6"
  },
  {
   "cell_type": "code",
   "execution_count": null,
   "metadata": {},
   "outputs": [],
   "source": [
    "print(\"3*f=\", 3*f)\n",
    "print(\"f*8=\", f*8)\n"
   ],
   "id": "cd49501e-de9d-4c20-b9db-b29852f2fd92"
  },
  {
   "cell_type": "markdown",
   "metadata": {},
   "source": [
    "## Division with remainder\n",
    "\n",
    "We can divide by *monic* polynomials; the \"quotient\" is obtained with\n",
    "the method `div`, the \"remainder\" with the method `mod`.\n",
    "\n",
    "To check whether a polynomial is monic, we can use the method\n",
    "`is_monic`."
   ],
   "id": "43908291-764f-445a-b079-7e20e7011794"
  },
  {
   "cell_type": "code",
   "execution_count": null,
   "metadata": {},
   "outputs": [],
   "source": [
    "print(\"Is f monic?  f.is_monic()=\", f.is_monic())\n",
    "print(\"Is g monic?  g.is_monic()=\", g.is_monic())\n"
   ],
   "id": "a2ff5f8a-a04f-4836-ad41-f8ed75e145a1"
  },
  {
   "cell_type": "code",
   "execution_count": null,
   "metadata": {},
   "outputs": [],
   "source": [
    "print(\"Division with remainder: f= g*q + r where\")\n",
    "q = f.div(g)\n",
    "r = f.mod(g)\n",
    "print(\"  q=\", q)\n",
    "print(\"  r=\", r)\n"
   ],
   "id": "c4104aa3-0279-459c-96f7-967fab853450"
  },
  {
   "cell_type": "code",
   "execution_count": null,
   "metadata": {},
   "outputs": [],
   "source": [
    "print(\"Test this: g*q + r == f?\")\n",
    "print(g*q+r == f)\n"
   ],
   "id": "38b49971-ddd4-4e72-9c29-6acb0f658f40"
  },
  {
   "cell_type": "markdown",
   "metadata": {},
   "source": [
    "However, dividing by a polynomial that is not monic results in a error:"
   ],
   "id": "dc9d6023-8305-483b-be01-234a7055a162"
  },
  {
   "cell_type": "code",
   "execution_count": null,
   "metadata": {},
   "outputs": [],
   "source": [
    "print(\"Try to divide g by the polynomial f.\")\n",
    "print(\"This will fail since f is not monic. Error message:\")\n",
    "h = g.div(f)\n",
    "print(\"  g div f=\", r)\n"
   ],
   "id": "29c74681-d8b7-40d2-97b4-95ec63770028"
  }
 ],
 "nbformat": 4,
 "nbformat_minor": 5,
 "metadata": {}
}
