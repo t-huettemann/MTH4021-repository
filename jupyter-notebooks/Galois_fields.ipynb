{
 "cells": [
  {
   "cell_type": "markdown",
   "metadata": {},
   "source": [
    "# Galois fields\n",
    "\n",
    "> **Remember to save a copy of the file so that you can edit it.**\n",
    "> (Click \"File\", then \"Save a copy to Drive\")\n",
    "\n",
    "Galois fields are finite fields of arbitrary prime characteristic $p$,\n",
    "having $q = p^n$ elements. To define the Galois field $GF(p^n)$ we need\n",
    "to have a monic irreducible polynomial of degree $n$ in\n",
    "$\\mathbb{F}_{p}$. Note that the Python package does *not* check whether\n",
    "$p$ is really irreducible as this is very time consuming.\n",
    "\n",
    "## Installing the required packages"
   ],
   "id": "39fd964e-1675-46eb-9728-d44bca92303b"
  },
  {
   "cell_type": "code",
   "execution_count": null,
   "metadata": {},
   "outputs": [],
   "source": [
    "# This installs the required packages.\n",
    "# Don't delete this cell!\n",
    "%pip install gmpy2\n",
    "%pip install primefac\n",
    "%pip install \"git+https://github.com/t-huettemann/MTH4021-repository-experimental.git#subdirectory=modules/rings_and_fields\"\n"
   ],
   "id": "48843cbb-6b41-4521-a0d2-d9ea16adc5fb"
  },
  {
   "cell_type": "markdown",
   "metadata": {},
   "source": [
    "## Setting up"
   ],
   "id": "25649a29-fa38-4915-b8a1-936f3d517de9"
  },
  {
   "cell_type": "code",
   "execution_count": null,
   "metadata": {},
   "outputs": [],
   "source": [
    "import rings_and_fields as rf\n"
   ],
   "id": "d1390958-f603-4dfd-85ea-af3f3605087d"
  },
  {
   "cell_type": "markdown",
   "metadata": {},
   "source": [
    "## Defining the Galois field"
   ],
   "id": "d216b7e0-1528-44f9-8c81-b09519632bf8"
  },
  {
   "cell_type": "code",
   "execution_count": null,
   "metadata": {},
   "outputs": [],
   "source": [
    "F = rf.primefield(17)\n",
    "P = rf.polynomialring_over_field(F)\n",
    "m = P([2,13,2,1])\n",
    "print(\"Modulus m=\", m)\n",
    "print([str(m.eval(t)) for t in F])\n"
   ],
   "id": "bae51720-a9ae-473e-b7c8-f1d372525f42"
  },
  {
   "cell_type": "markdown",
   "metadata": {},
   "source": [
    "That's good: $m$ has no root, and (being of degree 3) is thus\n",
    "irreducible. Let's define the Galoisfield $GF(17^3)$:"
   ],
   "id": "9673fed7-1a52-4d98-98aa-63885c9b01fb"
  },
  {
   "cell_type": "code",
   "execution_count": null,
   "metadata": {},
   "outputs": [],
   "source": [
    "G = rf.Galoisfield(m)\n",
    "print(\"G=\", G)\n"
   ],
   "id": "a06b4625-3a05-4f0f-b4f8-e918c277abbf"
  },
  {
   "cell_type": "markdown",
   "metadata": {},
   "source": [
    "This field has $17^3 = 4913$ elements, which are represented by\n",
    "polynomials in the indeterminate $t$. Let's calculate the sum and the\n",
    "product of the non-zero elements - and also the product of two randomly\n",
    "selected elements:"
   ],
   "id": "26684082-230f-438f-a0f6-2b53645049e5"
  },
  {
   "cell_type": "code",
   "execution_count": null,
   "metadata": {},
   "outputs": [],
   "source": [
    "sum  = G.zero()\n",
    "prod = G.one()\n",
    "for x in G:\n",
    "    if x.is_zero:\n",
    "        pass\n",
    "    else:\n",
    "        sum  = sum  + x\n",
    "        prod = prod * x\n",
    "print(\"Product of non-zero elements is\", prod)\n",
    "print(\"Sum of non-zero elements is\", sum)\n",
    "print(\"Is the sum zero?\", sum.is_zero())\n",
    "print(\"Is the product -1?\", prod == G(-1))\n",
    "a = G.random_element()\n",
    "print(\"Randomly selected element a=\", a)\n",
    "b = G.random_element()\n",
    "print(\"Randomly selected element b=\", b)\n",
    "print(\"a * b =\", a*b)\n"
   ],
   "id": "a97afa4a-37b1-4a56-9d8b-1b3edcd8041e"
  },
  {
   "cell_type": "markdown",
   "metadata": {},
   "source": [
    "## Another Galois field: $GF(2^{11})$\n",
    "\n",
    "We'll try the field with 2048 elements next. We represent the Galois\n",
    "field as $GF(2^{11}) = \\mathbb{F}_2[x]/(x^{11} + x^{10} + x^6 + x^5 +\n",
    "1)$; the given polynomial is irreducible, it is taken from [Peterson's\n",
    "table of irreducible polynomials over\n",
    "GF(2)](Https://redirect.cs.umbc.edu/~lomonaco/f97/442/Peterson_Table.html)."
   ],
   "id": "5fe3cfb3-40c2-4429-86b8-dc54cd1e6f38"
  },
  {
   "cell_type": "code",
   "execution_count": null,
   "metadata": {},
   "outputs": [],
   "source": [
    "K = rf.primefield(2)\n",
    "Q = rf.polynomialring_over_field(K, i='t')\n",
    "m2 = Q([1,0,0,0,0,1,1,0,0,0,1,1]) # this is irreducible - taken from a table\n",
    "G2 = rf.Galoisfield(m2, print_modulus=False)\n",
    "sum  = G2.zero()\n",
    "prod = G2.one()\n",
    "for x in G2:\n",
    "    if x.is_zero:\n",
    "        pass\n",
    "    else:\n",
    "        sum  = sum  + x\n",
    "        prod = prod * x\n",
    "print(\"Product of non-zero elements in\", G2, \"is\", prod)\n",
    "print(\"Sum of non-zero elements in\", G2, \"is\", sum)\n"
   ],
   "id": "7a7cb2b6-bed2-407e-b06c-336b1595d678"
  },
  {
   "cell_type": "markdown",
   "metadata": {},
   "source": [
    "Let's do some irreducibility testing in this field:"
   ],
   "id": "a9322922-43c3-4a61-aeb3-6ce1a1bc72d8"
  },
  {
   "cell_type": "code",
   "execution_count": null,
   "metadata": {},
   "outputs": [],
   "source": [
    "PP = rf.polynomialring_over_field(G2, parentheses=['(', ')'])\n",
    "q1 = PP([1,2,G2([0,1,0,1]), G2([1,1])])\n",
    "q2 = PP([1,G2([1,1,0,1]),G2([0,0,1,1]), G2([1,1,0,0,1])])\n",
    "#q1 = PP([1,1,0,1])\n",
    "print(q1, \"irreducible?\", q1.is_irreducible())\n",
    "print(q2, \"irreducible?\", q2.is_irreducible())\n"
   ],
   "id": "b9aeb795-4db2-4e88-9ae6-35b2da78a6c2"
  }
 ],
 "nbformat": 4,
 "nbformat_minor": 5,
 "metadata": {}
}
