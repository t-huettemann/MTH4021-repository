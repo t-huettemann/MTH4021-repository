{
 "cells": [
  {
   "cell_type": "markdown",
   "metadata": {},
   "source": [
    "# Basic usage of the `elliptic_curves` module\n",
    "\n",
    "## Setting up\n",
    "\n",
    "We need to load the required packages first:"
   ],
   "id": "32e86946-6242-4771-9a40-76f73f7bbe71"
  },
  {
   "cell_type": "code",
   "execution_count": null,
   "metadata": {},
   "outputs": [],
   "source": [
    "# This installs the required packages.\n",
    "# Don't delete this cell!\n",
    "%pip install gmpy2\n",
    "%pip install primefac\n",
    "%pip install \"git+https://github.com/t-huettemann/MTH4021-repository-experimental.git#subdirectory=modules/rings_and_fields\"\n",
    "%pip install \"git+https://github.com/t-huettemann/MTH4021-repository-experimental.git#subdirectory=modules/abelian_groups\"\n",
    "%pip install \"git+https://github.com/t-huettemann/MTH4021-repository-experimental.git#subdirectory=modules/elliptic_curves\"\n"
   ],
   "id": "5d475492-43fc-4ac7-8421-94b84791e4cd"
  },
  {
   "cell_type": "code",
   "execution_count": null,
   "metadata": {},
   "outputs": [],
   "source": [
    "import rings_and_fields as rf\n",
    "import abelian_groups as ab\n",
    "import elliptic_curves as ec\n"
   ],
   "id": "832f7e5b-cfe1-453c-818a-148123958b50"
  },
  {
   "cell_type": "markdown",
   "metadata": {},
   "source": [
    "## An elliptic curve over the field $\\mathbb{F}_{19}$\n",
    "\n",
    "We'll work over the prime field $\\mathbb{F}_{19} = \\mathbb{Z}/19$ for a\n",
    "start. We should avoid characteristic 2 and 3, though the packages don't\n",
    "check for that!"
   ],
   "id": "f68eea8d-52d1-4287-acde-85446c3c1b5d"
  },
  {
   "cell_type": "code",
   "execution_count": null,
   "metadata": {},
   "outputs": [],
   "source": [
    "F = rf.primefield(19)\n",
    "print(F)\n"
   ],
   "id": "da3b02a6-5e9b-4e8f-8c0d-969451478216"
  },
  {
   "cell_type": "markdown",
   "metadata": {},
   "source": [
    "Next we'll define an elliptic curve. For this, we need a polynomial\n",
    "$x^3 + ax + b \\in F[x]$, so we need to define the polynomialring as\n",
    "well. As for the elliptic curve, we need to ensure ourselves that\n",
    "$4a^3+27b^2 \\neq 0 \\in F$, the package does not verify the condition."
   ],
   "id": "f67adea1-7c33-4b51-9256-e0a9bc433e90"
  },
  {
   "cell_type": "code",
   "execution_count": null,
   "metadata": {},
   "outputs": [],
   "source": [
    "R = rf.polynomialring_over_field(F)\n",
    "a = F(4)\n",
    "b = F(7)\n",
    "print(\"a=\", a)\n",
    "print(\"b=\", b)\n",
    "print(\"4a^3 + 27b^2 = 0 ?\", (4*a.power(3) + 27*b.power(2)).is_zero())\n"
   ],
   "id": "ba716ece-f7e6-4a6f-a10b-8974a783a9ac"
  },
  {
   "cell_type": "markdown",
   "metadata": {},
   "source": [
    "Good. Now we're ready to define the elliptic curve. We'll then obtain\n",
    "and print the set of its points."
   ],
   "id": "f4915c03-4180-4f4e-bd3f-c92f17c7460c"
  },
  {
   "cell_type": "code",
   "execution_count": null,
   "metadata": {},
   "outputs": [],
   "source": [
    "f = R([b, a, 0, 1])\n",
    "print(\"f=\", f)\n",
    "curve = ec.elliptic_curve(f)\n",
    "print(\"Curve:\", curve)\n",
    "points = curve.points()\n",
    "print(\"The curve given by the polynomial\", f, \"has\", len(points), \"points over\", F)\n",
    "print([str(a) for a in points])\n"
   ],
   "id": "751994e7-5f88-4c9e-90f2-887c6bbb2bea"
  },
  {
   "cell_type": "markdown",
   "metadata": {},
   "source": [
    "Printing `points` requires some trickery as printing the set via\n",
    "`print(points)` actually invokes `repr()` instead of `str()` on the\n",
    "elements of `points`, which results in rather indigestible output. You\n",
    "can try it yourself (you have been warned).\n",
    "\n",
    "In any case, let's take two of the points on the elliptic curve and\n",
    "compute their sum:"
   ],
   "id": "98c1d49e-2003-4749-9004-2d36a942aed8"
  },
  {
   "cell_type": "code",
   "execution_count": null,
   "metadata": {},
   "outputs": [],
   "source": [
    "A = list(points)[4]\n",
    "B = list(points)[9]\n",
    "print(\"A=\", A)\n",
    "print(\"B=\", B)\n",
    "print(\"A+B=\", A+B)\n"
   ],
   "id": "bb7d71b2-5212-47e5-a63a-57454bffae41"
  },
  {
   "cell_type": "markdown",
   "metadata": {},
   "source": [
    "As the elliptic curve is a finite group, the element `A` must have\n",
    "finite order, which we can find as follows (using the obvious naive\n",
    "algorithm):"
   ],
   "id": "5724fa92-cc14-4bbc-b0c2-3576e58c04a3"
  },
  {
   "cell_type": "code",
   "execution_count": null,
   "metadata": {},
   "outputs": [],
   "source": [
    "order = 1\n",
    "Z = A\n",
    "while not(Z.is_zero()):\n",
    "    Z += A\n",
    "    order += 1\n",
    "print(\"The element\", A, \"has order\", order)\n"
   ],
   "id": "24e5b679-fc69-4695-a17b-52181a3c7bef"
  },
  {
   "cell_type": "markdown",
   "metadata": {},
   "source": [
    "Note that the neutral element in our group (the set of points of the\n",
    "elliptic curve) is the \"point at infinity\", and `Z.is_zero()` is `True`\n",
    "precisely when `Z` equals this point.\n",
    "\n",
    "## An elliptic curve over the field $\\mathbb{F}_{19^2}$\n",
    "\n",
    "We can also work over arbitrary Galois fields (away from characteristic\n",
    "2 and 3). We'll repeat what we did in the previous example, but using\n",
    "the field $K = \\mathbb{F}_{19^2}$ instead:"
   ],
   "id": "85a1dec3-43fc-4f2f-8662-7c0dd1dad6e0"
  },
  {
   "cell_type": "code",
   "execution_count": null,
   "metadata": {},
   "outputs": [],
   "source": [
    "F = rf.primefield(19)\n",
    "P = rf.polynomialring_over_field(F, 't')\n",
    "m = P([1,0,1])\n",
    "print(f\"The polynomial {m} is irreducible: {m.is_irreducible()}\")\n",
    "K = rf.Galoisfield(m, print_modulus=False)\n",
    "print(K)\n"
   ],
   "id": "1d23c323-11c2-4344-b086-f49192c30a03"
  },
  {
   "cell_type": "markdown",
   "metadata": {},
   "source": [
    "Next we'll define the elliptic curve, given by the same equation as\n",
    "before."
   ],
   "id": "06567bad-f8e1-410d-b9c6-75eac7dad808"
  },
  {
   "cell_type": "code",
   "execution_count": null,
   "metadata": {},
   "outputs": [],
   "source": [
    "R = rf.polynomialring_over_field(K, 'x', parentheses = ['(', ')'])\n",
    "a = K(4)\n",
    "b = K(7)\n",
    "f = R([b, a, 0, 1])\n",
    "print(\"f=\", f)\n",
    "curve = ec.elliptic_curve(f)\n",
    "print(\"Curve:\", curve)\n",
    "points = curve.points()\n",
    "print(\"The curve given by the polynomial\", f, \"has\", len(points), \"points over\", K)\n",
    "print([str(a) for a in points])\n"
   ],
   "id": "7f97c909-a56f-4ecd-8360-b7eb237393ea"
  },
  {
   "cell_type": "markdown",
   "metadata": {},
   "source": [
    "As before, let's take two of the points on the elliptic curve and\n",
    "compute their sum:"
   ],
   "id": "3ea4e1d9-889b-473d-a8ac-c6a00dfe9a75"
  },
  {
   "cell_type": "code",
   "execution_count": null,
   "metadata": {},
   "outputs": [],
   "source": [
    "A = list(points)[204]\n",
    "B = list(points)[96]\n",
    "print(\"A=\", A)\n",
    "print(\"B=\", B)\n",
    "print(\"A+B=\", A+B)\n"
   ],
   "id": "8084ea3b-6429-4d20-81a8-1f43b755d1b3"
  },
  {
   "cell_type": "markdown",
   "metadata": {},
   "source": [
    "As the elliptic curve is a finite group, the element `A` must have\n",
    "finite order, which we can find as follows (using the obvious naive\n",
    "algorithm):"
   ],
   "id": "17a7bca1-27c6-4fee-abf6-ce59ff03c6a4"
  },
  {
   "cell_type": "code",
   "execution_count": null,
   "metadata": {},
   "outputs": [],
   "source": [
    "order = 1\n",
    "Z = A\n",
    "while not(Z.is_zero()):\n",
    "    Z += A\n",
    "    order += 1\n",
    "print(\"The element\", A, \"has order\", order)\n"
   ],
   "id": "b52b4173-5711-4cba-817b-38e8b460a998"
  }
 ],
 "nbformat": 4,
 "nbformat_minor": 5,
 "metadata": {}
}
