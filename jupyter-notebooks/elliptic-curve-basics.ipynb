{
 "cells": [
  {
   "cell_type": "markdown",
   "metadata": {},
   "source": [
    "# Basic usage <span class=\"tag\" tag-name=\"page\"><span class=\"smallcaps\">page</span></span>\n",
    "\n",
    "## Setting up\n",
    "\n",
    "We need to load the required packages first:"
   ],
   "id": "2dd45d79-3bfd-40d6-86ee-1b2c6fba7868"
  },
  {
   "cell_type": "code",
   "execution_count": null,
   "metadata": {},
   "outputs": [],
   "source": [
    "# This installs the required packages.\n",
    "# Don't delete this cell!\n",
    "%pip install gmpy2\n",
    "%pip install primefac\n",
    "%pip install \"git+https://github.com/t-huettemann/MTH4021-repository.git#subdirectory=modules/rings_and_fields\"\n",
    "%pip install \"git+https://github.com/t-huettemann/MTH4021-repository.git#subdirectory=modules/abelian_groups\"\n",
    "%pip install \"git+https://github.com/t-huettemann/MTH4021-repository.git#subdirectory=modules/elliptic_curves\"\n"
   ],
   "id": "8b2ce043-fdcb-4ff7-9a68-01e9133dd3a8"
  },
  {
   "cell_type": "code",
   "execution_count": null,
   "metadata": {},
   "outputs": [],
   "source": [
    "import rings_and_fields as rf\n",
    "import abelian_groups as ab\n",
    "import elliptic_curves as ec\n"
   ],
   "id": "0c8c37ad-071a-47a5-9b44-5aa820027917"
  },
  {
   "cell_type": "markdown",
   "metadata": {},
   "source": [
    "## An elliptic curve over the field $\\mathbb{F}_{19}$\n",
    "\n",
    "We'll work over the prime field $\\mathbb{F}_{19} = \\mathbb{Z}/19$ for a\n",
    "start. We should avoid characteristic 2 and 3, though the packages don't\n",
    "check for that!"
   ],
   "id": "ee6f8d31-8631-4b7f-857d-33ffdb6ad6dc"
  },
  {
   "cell_type": "code",
   "execution_count": null,
   "metadata": {},
   "outputs": [],
   "source": [
    "F = rf.primefield(19)\n",
    "print(F)\n"
   ],
   "id": "a8436a49-678e-4bc2-a8cc-d22755f44f19"
  },
  {
   "cell_type": "markdown",
   "metadata": {},
   "source": [
    "Next we'll define an elliptic curve. For this, we need a polynomial\n",
    "$x^3 + ax + b \\in F[x]$, so we need to define the polynomialring as\n",
    "well. As for the elliptic curve, we need to ensure ourselves that\n",
    "$4a^3+27b^2 \\neq 0 \\in F$, the package does not verify the condition."
   ],
   "id": "59623f7d-e726-4152-9b04-94989f4161b6"
  },
  {
   "cell_type": "code",
   "execution_count": null,
   "metadata": {},
   "outputs": [],
   "source": [
    "R = rf.polynomialring_over_field(F)\n",
    "a = F(4)\n",
    "b = F(7)\n",
    "print(\"a=\", a)\n",
    "print(\"b=\", b)\n",
    "print(\"4a^3 + 27b^2 = 0 ?\", (4*a.power(3) + 27*b.power(2)).is_zero())\n"
   ],
   "id": "da0ebea8-ce3a-49fd-979e-d36875e08123"
  },
  {
   "cell_type": "markdown",
   "metadata": {},
   "source": [
    "Good. Now we're ready to define the elliptic curve. We'll then obtain\n",
    "and print the set of its points."
   ],
   "id": "1f97d8aa-8e75-4391-9ad4-2f96e32dbbe4"
  },
  {
   "cell_type": "code",
   "execution_count": null,
   "metadata": {},
   "outputs": [],
   "source": [
    "f = R([b, a, 0, 1])\n",
    "print(\"f=\", f)\n",
    "curve = ec.elliptic_curve(f)\n",
    "print(\"Curve:\", curve)\n",
    "points = curve.points()\n",
    "print(\"The curve given by the polynomial\", f, \"has\", len(points), \"points over\", F)\n",
    "print([str(a) for a in points])\n"
   ],
   "id": "14b08ae4-4ca1-4cff-b40d-994ce0971034"
  },
  {
   "cell_type": "markdown",
   "metadata": {},
   "source": [
    "Printing `points` requires some trickery as printing the set via\n",
    "`print(points)` actually invokes `repr()` instead of `str()` on the\n",
    "elements of `points`, which results in rather indigestible output. You\n",
    "can try it yourself (you have been warned).\n",
    "\n",
    "In any case, let's take two of the points on the elliptic curve and\n",
    "compute their sum:"
   ],
   "id": "76bf14b2-9d86-4d7b-869f-ef83d8df1872"
  },
  {
   "cell_type": "code",
   "execution_count": null,
   "metadata": {},
   "outputs": [],
   "source": [
    "A = list(points)[4]\n",
    "B = list(points)[9]\n",
    "print(\"A=\", A)\n",
    "print(\"B=\", B)\n",
    "print(\"A+B=\", A+B)\n"
   ],
   "id": "c10aee0e-7cc7-4d20-b775-3c2de7ee8d8f"
  },
  {
   "cell_type": "markdown",
   "metadata": {},
   "source": [
    "As the elliptic curve is a finite group, the element `A` must have\n",
    "finite order, which we can find as follows (using the obvious naive\n",
    "algorithm):"
   ],
   "id": "58d25394-7718-435b-abae-66fc27af5858"
  },
  {
   "cell_type": "code",
   "execution_count": null,
   "metadata": {},
   "outputs": [],
   "source": [
    "order = 1\n",
    "Z = A\n",
    "while not(Z.is_zero()):\n",
    "    Z += A\n",
    "    order += 1\n",
    "print(\"The element\", A, \"has order\", order)\n"
   ],
   "id": "ef5e8e11-e519-4ed2-914e-7eae79aa0a52"
  },
  {
   "cell_type": "markdown",
   "metadata": {},
   "source": [
    "Note that the neutral element in our group (the set of points of the\n",
    "elliptic curve) is the \"point at infinity\", and `Z.is_zero()` is `True`\n",
    "precisely when `Z` equals this point.\n",
    "\n",
    "## An elliptic curve over the field $\\mathbb{F}_{19^2}$\n",
    "\n",
    "We can also work over arbitrary Galois fields (away from characteristic\n",
    "2 and 3). We'll repeat what we did in the previous example, but using\n",
    "the field $K = \\mathbb{F}_{19^2}$ instead:"
   ],
   "id": "8f6d1a8d-c8cd-4cf7-bdd7-2eba0d891e8a"
  },
  {
   "cell_type": "code",
   "execution_count": null,
   "metadata": {},
   "outputs": [],
   "source": [
    "F = rf.primefield(19)\n",
    "P = rf.polynomialring_over_field(F, 't')\n",
    "m = P([1,0,1])\n",
    "print(f\"The polynomial {m} is irreducible: {m.is_irreducible()}\")\n",
    "K = rf.Galoisfield(m, print_modulus=False)\n",
    "print(K)\n"
   ],
   "id": "0c9c1a0b-5e12-40ba-83bd-c89e5b9fbc8a"
  },
  {
   "cell_type": "markdown",
   "metadata": {},
   "source": [
    "Next we'll define the elliptic curve, given by the same equation as\n",
    "before."
   ],
   "id": "fb5931e6-31c9-48b2-b7b8-18114e3c26e0"
  },
  {
   "cell_type": "code",
   "execution_count": null,
   "metadata": {},
   "outputs": [],
   "source": [
    "R = rf.polynomialring_over_field(K, 'x', parentheses = ['(', ')'])\n",
    "a = K(4)\n",
    "b = K(7)\n",
    "f = R([b, a, 0, 1])\n",
    "print(\"f=\", f)\n",
    "curve = ec.elliptic_curve(f)\n",
    "print(\"Curve:\", curve)\n",
    "points = curve.points()\n",
    "print(\"The curve given by the polynomial\", f, \"has\", len(points), \"points over\", K)\n",
    "print([str(a) for a in points])\n"
   ],
   "id": "20eb1e19-9d5d-464f-a871-efd855ed88ad"
  },
  {
   "cell_type": "markdown",
   "metadata": {},
   "source": [
    "As before, let's take two of the points on the elliptic curve and\n",
    "compute their sum:"
   ],
   "id": "ae59284f-5292-4c61-81bf-a80e3b66717a"
  },
  {
   "cell_type": "code",
   "execution_count": null,
   "metadata": {},
   "outputs": [],
   "source": [
    "A = list(points)[204]\n",
    "B = list(points)[96]\n",
    "print(\"A=\", A)\n",
    "print(\"B=\", B)\n",
    "print(\"A+B=\", A+B)\n"
   ],
   "id": "b588d871-7588-444c-b139-c838a33df392"
  },
  {
   "cell_type": "markdown",
   "metadata": {},
   "source": [
    "As the elliptic curve is a finite group, the element `A` must have\n",
    "finite order, which we can find as follows (using the obvious naive\n",
    "algorithm):"
   ],
   "id": "7ba9344e-38ca-4872-85a7-46a283d5d0ce"
  },
  {
   "cell_type": "code",
   "execution_count": null,
   "metadata": {},
   "outputs": [],
   "source": [
    "order = 1\n",
    "Z = A\n",
    "while not(Z.is_zero()):\n",
    "    Z += A\n",
    "    order += 1\n",
    "print(\"The element\", A, \"has order\", order)\n"
   ],
   "id": "9767a4ec-c169-4966-bb2a-eaac25836c1b"
  }
 ],
 "nbformat": 4,
 "nbformat_minor": 5,
 "metadata": {}
}
