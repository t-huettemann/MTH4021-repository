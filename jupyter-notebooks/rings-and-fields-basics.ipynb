{
 "cells": [
  {
   "cell_type": "markdown",
   "metadata": {},
   "source": [
    "# Basics: Working with $\\mathbb{Z}$, $\\mathbb{Q}$, $\\mathbb{Z}/m\\mathbb{Z}$ and $\\mathbb{F}_p$\n",
    "\n",
    "## Run this cell first\n",
    "\n",
    "This cell installs the non-standard Python packages."
   ],
   "id": "609d8cee-55e5-4a1f-ad60-a726262ecd01"
  },
  {
   "cell_type": "code",
   "execution_count": null,
   "metadata": {},
   "outputs": [],
   "source": [
    "# This installs the required packages.\n",
    "# Don't delete this cell!\n",
    "%pip install gmpy2\n",
    "%pip install primefac\n",
    "%pip install \"git+https://github.com/t-huettemann/MTH4021-repository.git#subdirectory=modules\"\n"
   ],
   "id": "791580a4-a82d-4a12-8426-df475464ba44"
  },
  {
   "cell_type": "markdown",
   "metadata": {},
   "source": [
    "## Setting up"
   ],
   "id": "6d082c26-550c-47f9-ba0f-6eb17a2a523f"
  },
  {
   "cell_type": "code",
   "execution_count": null,
   "metadata": {},
   "outputs": [],
   "source": [
    "import rings_and_fields as rf\n"
   ],
   "id": "c58e5de8-e890-4ae2-be7e-3f3b22aad530"
  },
  {
   "cell_type": "markdown",
   "metadata": {},
   "source": [
    "## Working with integers and rationals\n",
    "\n",
    "The main point to note is that we need to \"declare\" the rings (that is,\n",
    "create instances of the relevant classes - we need ring objects to work\n",
    "with). Elements of the rings are also instances of classes, and can be\n",
    "created as shown in the following example.\n",
    "\n",
    "Internally, the integer class `fields_and_rings.Z` is a wrapper for the\n",
    "class `gmpy2.mpz`. The methods `div` and `mod` for modular arithmetic\n",
    "call `gmpy2.f_div` and `gmpy2.f_mod`, which means that the quotient is\n",
    "round *down*; bear this in mind when using negative integers."
   ],
   "id": "dd60c0b0-98db-4ca9-89d7-0bd24c674004"
  },
  {
   "cell_type": "code",
   "execution_count": null,
   "metadata": {},
   "outputs": [],
   "source": [
    "Z = rf.Z()      # create an object representing the set of integers\n",
    "m = Z(34)       # create an integer\n",
    "n = Z(4)        # and another one\n",
    "print(\"m=\", m)\n",
    "print(\"n=\", n)\n",
    "print(\"3*m + n^8 =\", 3*m + n.power(8))\n",
    "print(\"Division with remainder: m div n =\", m.div(n), \"with remainder\", m.mod(n))\n",
    "print(\"\")\n",
    "Q = rf.Q()      # create an object representing the set of rationals\n",
    "x = Q('3/4')    # create a rational number\n",
    "y = Q('-17/8')  # and another one\n",
    "print(\"x=\", x)\n",
    "print(\"y=\", y)\n",
    "print(\"3*x + y^8 =\", 3*x + y.power(8))\n"
   ],
   "id": "8ed1fbf4-2108-40b8-a24d-a30b99d0482c"
  },
  {
   "cell_type": "markdown",
   "metadata": {},
   "source": [
    "## Working with $\\mathbb{Z}/m\\mathbb{Z}$: Modular arithmetic\n",
    "\n",
    "As before, we need to declare a ring object, but of course we need to\n",
    "specify the modulus in this case. Let's try out\n",
    "$\\mathbb{Z}/222\\mathbb{Z}$:"
   ],
   "id": "2a1c6efa-b351-4343-a6c7-1c5a378ff7d9"
  },
  {
   "cell_type": "code",
   "execution_count": null,
   "metadata": {},
   "outputs": [],
   "source": [
    "R = rf.zmod(222)  # create the ring\n",
    "a = R(34)         # create an element of R\n",
    "b = R(40000)      # and another one\n",
    "print(\"a=\", a)\n",
    "print(\"b=\", b)\n",
    "print(\"3*a + b^8 =\", 3*a + b.power(8))\n"
   ],
   "id": "e15bf7a1-4ac4-4f73-80b1-141a5a06c9f8"
  },
  {
   "cell_type": "markdown",
   "metadata": {},
   "source": [
    "## Working with $\\mathbb{F}_p$: Finite prime fields\n",
    "\n",
    "We can work with the \"prime fields\" $\\mathbb{F}_p$, for $p$ a prime,\n",
    "just as easily as with $\\mathbb{Z}/p\\mathbb{Z}$, but now we can also\n",
    "divide elements."
   ],
   "id": "0cea7ba7-bd0a-499d-80fa-a2c0a3737ca5"
  },
  {
   "cell_type": "code",
   "execution_count": null,
   "metadata": {},
   "outputs": [],
   "source": [
    "F = rf.primefield(59)  # create the field\n",
    "p = F(34)              # create an element of F\n",
    "q = F(40000)           # and another one\n",
    "print(\"p=\", p)\n",
    "print(\"q=\", q)\n",
    "print(\"3*p / b^8 =\", 3*p / q.power(8))\n"
   ],
   "id": "eaf9b756-aaf9-4eb7-bf94-763a8b00a186"
  },
  {
   "cell_type": "markdown",
   "metadata": {},
   "source": [
    "## Testing for zero and equality\n",
    "\n",
    "In all rings, you can test elements for being zero with the `is_zero`\n",
    "method. Equality and inequality can be tested as usual using `==` and\n",
    "`!=`. You can get the zero and one element of a ring by calling its\n",
    "methods `zero` and `one`."
   ],
   "id": "c70fb92d-610f-489c-b563-37dc00ca4e7e"
  },
  {
   "cell_type": "code",
   "execution_count": null,
   "metadata": {},
   "outputs": [],
   "source": [
    "zF = F.zero()\n",
    "print(\"p+0=\", p+zF, \"in the field\", F)\n",
    "oR = R.one()\n",
    "print(\"a*1=\", a*oR, \"in the ring\", R)\n",
    "print(\"x != y?\", x != y)\n",
    "print(\"m == 0?\", m.is_zero())\n"
   ],
   "id": "2469b57e-55bb-4f18-9e87-8fdd206705a0"
  }
 ],
 "nbformat": 4,
 "nbformat_minor": 5,
 "metadata": {}
}
