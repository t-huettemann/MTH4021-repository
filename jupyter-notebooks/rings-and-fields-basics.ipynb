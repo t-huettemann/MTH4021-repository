{
 "cells": [
  {
   "cell_type": "markdown",
   "metadata": {},
   "source": [
    "# Basics: Working with $\\mathbb{Z}$, $\\mathbb{Q}$, $\\mathbb{Z}/m\\mathbb{Z}$ and $\\mathbb{F}_p$\n",
    "\n",
    "## Run this cell first\n",
    "\n",
    "This cell installs the non-standard Python packages."
   ],
   "id": "6d9af0b3-d3b0-4e4e-8e84-a2e63c5a13a4"
  },
  {
   "cell_type": "code",
   "execution_count": null,
   "metadata": {},
   "outputs": [],
   "source": [
    "# This installs the required packages.\n",
    "# Don't delete this cell!\n",
    "%pip install gmpy2\n",
    "%pip install primefac\n",
    "%pip install \"git+https://github.com/t-huettemann/MTH4021-repository.git#subdirectory=modules\"\n"
   ],
   "id": "2e192e5b-baaa-4c1b-bf84-e53e5e37b4c0"
  },
  {
   "cell_type": "markdown",
   "metadata": {},
   "source": [
    "## Setting up"
   ],
   "id": "2ce204e4-32b4-44e7-9c61-426242b4de23"
  },
  {
   "cell_type": "code",
   "execution_count": null,
   "metadata": {},
   "outputs": [],
   "source": [
    "import MTH4021.rings_and_fields as rf\n"
   ],
   "id": "2a2c2833-ee91-402a-8cc9-492f566a162d"
  },
  {
   "cell_type": "markdown",
   "metadata": {},
   "source": [
    "## Working with integers and rationals\n",
    "\n",
    "The main point to note is that we need to \"declare\" the rings (that is,\n",
    "create instances of the relevant classes - we need ring objects to work\n",
    "with). Elements of the rings are also instances of classes, and can be\n",
    "created as shown in the following example.\n",
    "\n",
    "Internally, the integer class `fields_and_rings.Z` is a wrapper for the\n",
    "class `gmpy2.mpz`. The methods `div` and `mod` for modular arithmetic\n",
    "call `gmpy2.f_div` and `gmpy2.f_mod`, which means that the quotient is\n",
    "round *down*; bear this in mind when using negative integers."
   ],
   "id": "504d3486-7142-4119-bfe7-6265b96ff800"
  },
  {
   "cell_type": "code",
   "execution_count": null,
   "metadata": {},
   "outputs": [],
   "source": [
    "Z = rf.Z()      # create an object representing the set of integers\n",
    "m = Z(34)       # create an integer\n",
    "n = Z(4)        # and another one\n",
    "print(\"m=\", m)\n",
    "print(\"n=\", n)\n",
    "print(\"3*m + n^8 =\", 3*m + n.power(8))\n",
    "print(\"Division with remainder: m div n =\", m.div(n), \"with remainder\", m.mod(n))\n",
    "print(\"\")\n",
    "Q = rf.Q()      # create an object representing the set of rationals\n",
    "x = Q('3/4')    # create a rational number\n",
    "y = Q('-17/8')  # and another one\n",
    "print(\"x=\", x)\n",
    "print(\"y=\", y)\n",
    "print(\"3*x + y^8 =\", 3*x + y.power(8))\n"
   ],
   "id": "f1458035-df64-42fe-aacc-9674825218df"
  },
  {
   "cell_type": "markdown",
   "metadata": {},
   "source": [
    "## Working with $\\mathbb{Z}/m\\mathbb{Z}$: Modular arithmetic\n",
    "\n",
    "As before, we need to declare a ring object, but of course we need to\n",
    "specify the modulus in this case. Let's try out\n",
    "$\\mathbb{Z}/222\\mathbb{Z}$:"
   ],
   "id": "fa325d70-07ea-468e-9a31-2735e3aa180a"
  },
  {
   "cell_type": "code",
   "execution_count": null,
   "metadata": {},
   "outputs": [],
   "source": [
    "R = rf.zmod(222)  # create the ring\n",
    "a = R(34)         # create an element of R\n",
    "b = R(40000)      # and another one\n",
    "print(\"a=\", a)\n",
    "print(\"b=\", b)\n",
    "print(\"3*a + b^8 =\", 3*a + b.power(8))\n"
   ],
   "id": "02ab2316-e702-410f-8767-9e8110decd99"
  },
  {
   "cell_type": "markdown",
   "metadata": {},
   "source": [
    "## Working with $\\mathbb{F}_p$: Finite prime fields\n",
    "\n",
    "We can work with the \"prime fields\" $\\mathbb{F}_p$, for $p$ a prime,\n",
    "just as easily as with $\\mathbb{Z}/p\\mathbb{Z}$, but now we can also\n",
    "divide elements."
   ],
   "id": "4f2905be-5abf-4ba5-8396-575dfc2265a5"
  },
  {
   "cell_type": "code",
   "execution_count": null,
   "metadata": {},
   "outputs": [],
   "source": [
    "F = rf.primefield(59)  # create the field\n",
    "p = F(34)              # create an element of F\n",
    "q = F(40000)           # and another one\n",
    "print(\"p=\", p)\n",
    "print(\"q=\", q)\n",
    "print(\"3*p / b^8 =\", 3*p / q.power(8))\n"
   ],
   "id": "9785942e-29a9-4994-864b-2436c2986053"
  },
  {
   "cell_type": "markdown",
   "metadata": {},
   "source": [
    "## Testing for zero and equality\n",
    "\n",
    "In all rings, you can test elements for being zero with the `is_zero`\n",
    "method. Equality and inequality can be tested as usual using `==` and\n",
    "`!=`. You can get the zero and one element of a ring by calling its\n",
    "methods `zero` and `one`."
   ],
   "id": "bd6ca100-d27a-4836-8ce2-ae9d98b49efb"
  },
  {
   "cell_type": "code",
   "execution_count": null,
   "metadata": {},
   "outputs": [],
   "source": [
    "zF = F.zero()\n",
    "print(\"p+0=\", p+zF, \"in the field\", F)\n",
    "oR = R.one()\n",
    "print(\"a*1=\", a*oR, \"in the ring\", R)\n",
    "print(\"x != y?\", x != y)\n",
    "print(\"m == 0?\", m.is_zero())\n"
   ],
   "id": "7867281b-294d-4ba5-98e6-b78d43a4b0a3"
  }
 ],
 "nbformat": 4,
 "nbformat_minor": 5,
 "metadata": {}
}
