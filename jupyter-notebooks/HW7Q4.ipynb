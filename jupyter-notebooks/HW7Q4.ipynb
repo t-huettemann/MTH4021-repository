{
 "cells": [
  {
   "cell_type": "markdown",
   "metadata": {},
   "source": [
    "# Sandpit for Homework 7, Q4 (iv)\n",
    "\n",
    "This is a \"sandpit\" for trying out Homework 7, Question 4 (iv).\n",
    "\n",
    "## Save your own copy of this notebook\n",
    "\n",
    "> **Remember to save a copy of the file so that you can edit it.**\n",
    "> (Click \"File\", then \"Save a copy to Drive\")\n",
    "\n",
    "## Installing the required packages"
   ],
   "id": "8981d6b7-49e3-4fc1-878b-e81d031161d4"
  },
  {
   "cell_type": "code",
   "execution_count": null,
   "metadata": {},
   "outputs": [],
   "source": [
    "# This installs the required packages.\n",
    "# Don't delete this cell!\n",
    "%pip install gmpy2\n",
    "%pip install primefac\n",
    "%pip install \"git+https://github.com/t-huettemann/MTH4021-repository-experimental.git#subdirectory=modules/rings_and_fields\"\n"
   ],
   "id": "47c720c6-4041-4ed2-9349-a5e1b1536935"
  },
  {
   "cell_type": "markdown",
   "metadata": {},
   "source": [
    "## Setting up"
   ],
   "id": "7ab568ac-a0a7-439a-9875-3de73a1da06b"
  },
  {
   "cell_type": "code",
   "execution_count": null,
   "metadata": {},
   "outputs": [],
   "source": [
    "import rings_and_fields as rf\n"
   ],
   "id": "1c03fd31-85bc-453c-8aa4-cfaceac3d5b2"
  },
  {
   "cell_type": "markdown",
   "metadata": {},
   "source": [
    "## Defining the Galois field\n",
    "\n",
    "For demonstration, we'll work with the Galois field $GF(9) =\n",
    "\\mathbb{F}_{3}[i]/(i^2+1)$. (We use the indeterminate $i$ instead of $x$\n",
    "to emphasise the similarity with complex numbers.) Actually we'll check\n",
    "if the polynomial $i^2+1$ is indeed irreducible, just to be sure."
   ],
   "id": "141a453f-4247-4f68-962c-c651e5de2db1"
  },
  {
   "cell_type": "code",
   "execution_count": null,
   "metadata": {},
   "outputs": [],
   "source": [
    "F = rf.primefield(3)\n",
    "P = rf.polynomialring_over_field(F, i=\"i\") # we use the indeterminate \"i\" here\n",
    "                                           # so elements of the Galois field\n",
    "                                           # will look like \"complex numbers\n",
    "                                           # over F_3\"\n",
    "m = P([1,0,1])   #  this defines the polynomial 1 + i^2 in P,\n",
    "                 #  specified as a list of coefficients\n",
    "                 #  starting with the constant coefficient\n",
    "print(\"Modulus m=\", m)\n",
    "print(\"m is irreducible:\", m.is_irreducible())\n",
    "K = rf.Galoisfield(m, print_modulus = False)\n",
    "print(\"K=\", K)\n"
   ],
   "id": "59495207-c388-4fb5-9f95-52e2b833d6f4"
  },
  {
   "cell_type": "markdown",
   "metadata": {},
   "source": [
    "## Some computations related to part (ii)\n",
    "\n",
    "We know (from the homework question) that $z \\in GF(9)$ is a generator\n",
    "if and only if $z^4 \\neq 1$. We can check the specific element\n",
    "represented by $i-1$:"
   ],
   "id": "910b1183-d166-4e59-aee6-f31bebca319f"
  },
  {
   "cell_type": "code",
   "execution_count": null,
   "metadata": {},
   "outputs": [],
   "source": [
    "z = K([-1,1]) # the element is specified as a list\n",
    "              # of coefficients of a polynomial,\n",
    "              # with the constant coefficient coming first.\n",
    "if z.power(4).is_one():\n",
    "    print(\"No luck:\", \"z=\", z, \"is not a generator.\")\n",
    "else:\n",
    "    print(\"Success:\", \"z=\", z, \"is a generator.\")\n"
   ],
   "id": "101d791b-acad-4cea-885a-b88735c22cf0"
  },
  {
   "cell_type": "markdown",
   "metadata": {},
   "source": [
    "We could also check *all* non-zero elements of our Galois field, because\n",
    "we can iterate over the elements of $GF(9)$. And since we're at it, we\n",
    "can also *count* the number of generators:"
   ],
   "id": "a16d74d7-601c-45c3-a991-164e0947ebac"
  },
  {
   "cell_type": "code",
   "execution_count": null,
   "metadata": {},
   "outputs": [],
   "source": [
    "n = 0\n",
    "for z in K:\n",
    "    if z.is_zero():\n",
    "        continue   # 0 is never a generator, it's not a unit!\n",
    "    if z.power(4).is_one():\n",
    "        print(\"No luck:\", \"z=\", z, \"is not a generator.\")\n",
    "    else:\n",
    "        print(\"Success:\", \"z=\", z, \"is a generator.\")\n",
    "        n += 1\n",
    "print(f\"There are {n} generators.\")\n"
   ],
   "id": "d6c69a21-cd0d-4ce4-99d1-f69275a2c6e9"
  },
  {
   "cell_type": "markdown",
   "metadata": {},
   "source": [
    "## Try it yourself!\n",
    "\n",
    "And here you can try to do the calculations for part (iv) in Python, or\n",
    "of course you can edit and adapt the code above.\n",
    "\n",
    "The tasks are:\n",
    "\n",
    "$\\bullet$ Define the Galois field $GF(3^4)$ as\n",
    "$\\mathbb{F}_{3}[x]/(x^4+2x^3+x^2+x+2)$.\n",
    "\n",
    "$\\bullet$ Verify that the element represented by $x^3+2x^2+1$ is a\n",
    "generator of $K^{\\times}$.\n",
    "\n",
    "$\\bullet$ Verify that the element represented by $2x^3+2x^2+2x+1$ is\n",
    "*not* a generator.\n",
    "\n",
    "Have fun!"
   ],
   "id": "f951d36a-6fad-4577-a815-60a963443922"
  },
  {
   "cell_type": "code",
   "execution_count": null,
   "metadata": {},
   "outputs": [],
   "source": [
    "# Enter your code here\n"
   ],
   "id": "dd8717cc-c763-46de-8cb7-d0278aa99257"
  }
 ],
 "nbformat": 4,
 "nbformat_minor": 5,
 "metadata": {}
}
