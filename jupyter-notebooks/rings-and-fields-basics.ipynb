{
 "cells": [
  {
   "cell_type": "markdown",
   "metadata": {},
   "source": [
    "# Basics: Working with $\\mathbb{Z}$, $\\mathbb{Q}$, $\\mathbb{Z}/m\\mathbb{Z}$ and $\\mathbb{F}_p$\n",
    "\n",
    "## Run this cell first\n",
    "\n",
    "This cell installs the non-standard Python packages."
   ],
   "id": "2837a05f-1edb-4996-bc3a-c2762c06325d"
  },
  {
   "cell_type": "code",
   "execution_count": null,
   "metadata": {},
   "outputs": [],
   "source": [
    "# This installs the required packages.\n",
    "# Don't delete this cell!\n",
    "try:\n",
    "  import gmpy2\n",
    "except (ModuleNotFoundError, ImportError):\n",
    "  %pip install gmpy2\n",
    "  import gmpy2\n",
    "\n",
    "try:\n",
    "  import primefac\n",
    "except (ModuleNotFoundError, ImportError):\n",
    "  %pip install primefac\n",
    "  import primefac\n"
   ],
   "id": "0e1f5499-eb6c-4c9a-9287-b6a7dca1c917"
  },
  {
   "cell_type": "markdown",
   "metadata": {},
   "source": [
    "## Setting up"
   ],
   "id": "4c806e66-429d-41e9-9733-ced866810d34"
  },
  {
   "cell_type": "code",
   "execution_count": null,
   "metadata": {},
   "outputs": [],
   "source": [
    "try:\n",
    "  import rings_and_fields as rf\n",
    "except (ModuleNotFoundError, ImportError):\n",
    "  %pip install \"git+https://github.com/t-huettemann/MTH4021-repository.git\"\n",
    "  import rings_and_fields as rf\n"
   ],
   "id": "3f978fbf-cf5b-44ba-adb4-dba299914256"
  },
  {
   "cell_type": "markdown",
   "metadata": {},
   "source": [
    "## Working with integers and rationals\n",
    "\n",
    "The main point to note is that we need to \"declare\" the rings (that is,\n",
    "create instances of the relevant classes - we need ring objects to work\n",
    "with). Elements of the rings are also instances of classes, and can be\n",
    "created as shown in the following example.\n",
    "\n",
    "Internally, the integer class `fields_and_rings.Z` is a wrapper for the\n",
    "class `gmpy2.mpz`. The methods `div` and `mod` for modular arithmetic\n",
    "call `gmpy2.f_div` and `gmpy2.f_mod`, which means that the quotient is\n",
    "round *down*; bear this in mind when using negative integers."
   ],
   "id": "89561a39-dc7e-491a-ba07-7e75d5976126"
  },
  {
   "cell_type": "code",
   "execution_count": null,
   "metadata": {},
   "outputs": [],
   "source": [
    "Z = rf.Z()      # create an object representing the set of integers\n",
    "m = Z(34)       # create an integer\n",
    "n = Z(4)        # and another one\n",
    "print(\"m=\", m)\n",
    "print(\"n=\", n)\n",
    "print(\"3*m + n^8 =\", 3*m + n.power(8))\n",
    "print(\"Division with remainder: m div n =\", m.div(n), \"with remainder\", m.mod(n))\n",
    "print(\"\")\n",
    "Q = rf.Q()      # create an object representing the set of rationals\n",
    "x = Q('3/4')    # create a rational number\n",
    "y = Q('-17/8')  # and another one\n",
    "print(\"x=\", x)\n",
    "print(\"y=\", y)\n",
    "print(\"3*x + y^8 =\", 3*x + y.power(8))\n"
   ],
   "id": "1793f512-e1e3-4146-9caa-23bb7ffe8c69"
  },
  {
   "cell_type": "markdown",
   "metadata": {},
   "source": [
    "## Working with $\\mathbb{Z}/m\\mathbb{Z}$: Modular arithmetic\n",
    "\n",
    "As before, we need to declare a ring object, but of course we need to\n",
    "specify the modulus in this case. Let's try out\n",
    "$\\mathbb{Z}/222\\mathbb{Z}$:"
   ],
   "id": "7039d689-52af-4f94-a880-2c30903d2ffa"
  },
  {
   "cell_type": "code",
   "execution_count": null,
   "metadata": {},
   "outputs": [],
   "source": [
    "R = rf.zmod(222)  # create the ring\n",
    "a = R(34)         # create an element of R\n",
    "b = R(40000)      # and another one\n",
    "print(\"a=\", a)\n",
    "print(\"b=\", b)\n",
    "print(\"3*a + b^8 =\", 3*a + b.power(8))\n"
   ],
   "id": "700326e1-7f20-44be-a83c-9cde90d5ab1a"
  },
  {
   "cell_type": "markdown",
   "metadata": {},
   "source": [
    "## Working with $\\mathbb{F}_p$: Finite prime fields\n",
    "\n",
    "We can work with the \"prime fields\" $\\mathbb{F}_p$, for $p$ a prime,\n",
    "just as easily as with $\\mathbb{Z}/p\\mathbb{Z}$, but now we can also\n",
    "divide elements."
   ],
   "id": "5be52631-6f6b-49f9-a1aa-06355b0acc8f"
  },
  {
   "cell_type": "code",
   "execution_count": null,
   "metadata": {},
   "outputs": [],
   "source": [
    "F = rf.primefield(59)  # create the field\n",
    "p = F(34)              # create an element of F\n",
    "q = F(40000)           # and another one\n",
    "print(\"p=\", p)\n",
    "print(\"q=\", q)\n",
    "print(\"3*p / b^8 =\", 3*p / q.power(8))\n"
   ],
   "id": "f1328b7c-8902-4863-a10b-05e52820c204"
  },
  {
   "cell_type": "markdown",
   "metadata": {},
   "source": [
    "## Testing for zero and equality\n",
    "\n",
    "In all rings, you can test elements for being zero with the `is_zero`\n",
    "method. Equality and inequality can be tested as usual using `==` and\n",
    "`!=`. You can get the zero and one element of a ring by calling its\n",
    "methods `zero` and `one`."
   ],
   "id": "13a021df-bd49-4ffc-8a14-72a53b711640"
  },
  {
   "cell_type": "code",
   "execution_count": null,
   "metadata": {},
   "outputs": [],
   "source": [
    "zF = F.zero()\n",
    "print(\"p+0=\", p+zF, \"in the field\", F)\n",
    "oR = R.one()\n",
    "print(\"a*1=\", a*oR, \"in the ring\", R)\n",
    "print(\"x != y?\", x != y)\n",
    "print(\"m == 0?\", m.is_zero())\n"
   ],
   "id": "573d11ea-d94b-4342-8491-225c8291df13"
  }
 ],
 "nbformat": 4,
 "nbformat_minor": 5,
 "metadata": {}
}
