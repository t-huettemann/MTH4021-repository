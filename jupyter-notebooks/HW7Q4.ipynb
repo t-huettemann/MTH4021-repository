{
 "cells": [
  {
   "cell_type": "markdown",
   "metadata": {},
   "source": [
    "# Sandpit for Homework 7, Q4 (iv)\n",
    "\n",
    "> **Remember to save a copy of the file so that you can edit it.**\n",
    "> (Click \"File\", then \"Save a copy to Drive\")\n",
    "\n",
    "This is a \"sandpit\" for trying out Homework 7, Question 4 (iv).\n",
    "\n",
    "## Installing the required packages"
   ],
   "id": "aa79b279-aa5f-439c-b3b1-88f9e68f3633"
  },
  {
   "cell_type": "code",
   "execution_count": null,
   "metadata": {},
   "outputs": [],
   "source": [
    "# This installs the required packages.\n",
    "# Don't delete this cell!\n",
    "%pip install gmpy2\n",
    "%pip install primefac\n",
    "%pip install \"git+https://github.com/t-huettemann/MTH4021-repository-experimental.git#subdirectory=modules/rings_and_fields\"\n"
   ],
   "id": "6746c227-5b08-4f40-ae82-bd854dedce0c"
  },
  {
   "cell_type": "markdown",
   "metadata": {},
   "source": [
    "## Setting up"
   ],
   "id": "6c28535a-6c1b-4a28-b9d5-a7cb22bf7bb4"
  },
  {
   "cell_type": "code",
   "execution_count": null,
   "metadata": {},
   "outputs": [],
   "source": [
    "import rings_and_fields as rf\n"
   ],
   "id": "e5cf4fd8-10d2-4a1f-9765-fa5f6048a541"
  },
  {
   "cell_type": "markdown",
   "metadata": {},
   "source": [
    "## Defining the Galois field\n",
    "\n",
    "For demonstration, we'll work with the Galois field $GF(9) =\n",
    "\\mathbb{F}_{3}[x]/(x^2+1)$. Actually we'll check if the polynomial\n",
    "$x^2+1$ is indeed irreducible, just to be sure."
   ],
   "id": "3cb6dd75-3c02-471c-9970-51a4dbe2828b"
  },
  {
   "cell_type": "code",
   "execution_count": null,
   "metadata": {},
   "outputs": [],
   "source": [
    "F = rf.primefield(3)\n",
    "P = rf.polynomialring_over_field(F)\n",
    "m = P([1,0,1])   #  this defines a polynomial in P,\n",
    "                 #  specified as a list of coefficients\n",
    "                 #  starting with the constant coefficient\n",
    "print(\"Modulus m=\", m)\n",
    "print(\"m is irreducible:\", m.is_irreducible())\n",
    "K = rf.Galoisfield(m)\n",
    "print(\"K=\", K)\n"
   ],
   "id": "f62462d8-c381-4ece-babb-d14b7f0e5ad4"
  },
  {
   "cell_type": "markdown",
   "metadata": {},
   "source": [
    "## Some computations related to part (ii)\n",
    "\n",
    "We know (from the homework question) that $z \\in \\GF(9)$ is a generator\n",
    "if and only if $z^4 \\neq 1$. We can check the specific element\n",
    "represented by $x-1$:"
   ],
   "id": "0df8c2ba-215f-4421-8978-a45c3eea233e"
  },
  {
   "cell_type": "code",
   "execution_count": null,
   "metadata": {},
   "outputs": [],
   "source": [
    "z = K([-1,1])\n",
    "if (z^4).is_one():\n",
    "    print(No luck: \"z=\", z, \"is not a generator.\")\n",
    "else:\n",
    "    print(Success: \"z=\", z, \"is a generator.\")\n"
   ],
   "id": "5d6f5945-e16a-4ccd-a791-2a000ccbd7e5"
  },
  {
   "cell_type": "markdown",
   "metadata": {},
   "source": [
    "We could also check *all* elements of our Galois field, because we can\n",
    "iterate over the elements of $GF(9)$:"
   ],
   "id": "5520bccb-4d59-41c7-b882-3e67abae2df3"
  },
  {
   "cell_type": "code",
   "execution_count": null,
   "metadata": {},
   "outputs": [],
   "source": [
    "for z in K:\n",
    "    if (z^4).is_one():\n",
    "        print(No luck: \"z=\", z, \"is not a generator.\")\n",
    "    else:\n",
    "        print(Success: \"z=\", z, \"is a generator.\")    \n"
   ],
   "id": "3ccfcbb3-89a8-40eb-bf90-154b2ebd50bd"
  },
  {
   "cell_type": "markdown",
   "metadata": {},
   "source": [
    "## Try yourself!\n",
    "\n",
    "And here you can try to do the calculations for part (iv) in Python, or\n",
    "of course you can edit the code above. Have fun!"
   ],
   "id": "d4aa8c54-3a82-4b7f-b085-376099293b2e"
  },
  {
   "cell_type": "code",
   "execution_count": null,
   "metadata": {},
   "outputs": [],
   "source": [
    "# Enter your code here\n"
   ],
   "id": "184cedb9-9eec-4e7a-af1a-7c0d90c2c02d"
  }
 ],
 "nbformat": 4,
 "nbformat_minor": 5,
 "metadata": {}
}
