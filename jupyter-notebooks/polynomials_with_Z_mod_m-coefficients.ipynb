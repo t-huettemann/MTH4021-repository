{
 "cells": [
  {
   "cell_type": "markdown",
   "metadata": {},
   "source": [
    "# Polynomials with $\\mathbb{Z}/n$-coefficients\n",
    "\n",
    "> **Remember to save a copy of the file so that you can edit it.**\n",
    "> (Click \"File\", then \"Save a copy to Drive\")\n",
    "\n",
    "## Installing the required packages"
   ],
   "id": "4976b588-6aa5-46ff-91d5-2435e88ecbe1"
  },
  {
   "cell_type": "code",
   "execution_count": null,
   "metadata": {},
   "outputs": [],
   "source": [
    "# This installs the required packages.\n",
    "# Don't delete this cell!\n",
    "%pip install gmpy2\n",
    "%pip install primefac\n",
    "%pip install \"git+https://github.com/t-huettemann/MTH4021-repository-experimental.git#subdirectory=modules/rings_and_fields\"\n"
   ],
   "id": "1eed54ba-526f-4eb4-9b52-c11c13ecc6bc"
  },
  {
   "cell_type": "markdown",
   "metadata": {},
   "source": [
    "## Setting up"
   ],
   "id": "f65f18ca-5520-442d-8a9d-b7da5b74d1ed"
  },
  {
   "cell_type": "code",
   "execution_count": null,
   "metadata": {},
   "outputs": [],
   "source": [
    "import rings_and_fields as rf\n"
   ],
   "id": "8b7aec74-cfdb-456a-ab66-34fd9c9a5787"
  },
  {
   "cell_type": "markdown",
   "metadata": {},
   "source": [
    "## Defining the relevant rings\n",
    "\n",
    "We'll work with the ring $\\mathbb{Z}/60$ for illustration. We need to\n",
    "set up two Python objects: `R` representing the ring $\\mathbb{Z}/60$,\n",
    "and `P` representing the polynomial ring $(\\mathbb{Z}/60)[x]$."
   ],
   "id": "95955926-c738-4e48-a00c-1c939a25eedf"
  },
  {
   "cell_type": "code",
   "execution_count": null,
   "metadata": {},
   "outputs": [],
   "source": [
    "R = rf.zmod(60)\n",
    "P = rf.polynomialring(R)\n",
    "print(\"Ring of integers modulo 60:\", R)\n",
    "print(\"Ring of polynomials with coefficients in R:\", P)\n"
   ],
   "id": "a36de1a8-384c-4b91-a563-69928984c5ee"
  },
  {
   "cell_type": "markdown",
   "metadata": {},
   "source": [
    "## Defining polynomials, basic calculations"
   ],
   "id": "81b3f6e0-bc4f-4593-a092-6a45235748af"
  },
  {
   "cell_type": "code",
   "execution_count": null,
   "metadata": {},
   "outputs": [],
   "source": [
    "f = P([27, 0, 12, -1, 33])\n",
    "g = P([5, -40, 1])\n",
    "print(\"f=\", f)\n",
    "print(\"g=\", g)\n"
   ],
   "id": "2ca9c659-3092-4322-96fc-bbadb477d9c6"
  },
  {
   "cell_type": "code",
   "execution_count": null,
   "metadata": {},
   "outputs": [],
   "source": [
    "print(\"f * g =\", f*g)\n",
    "print(\"f - g =\", f-g)\n",
    "print(\"f^4=\", f.power(4))\n",
    "print(\"g*f = 0?\", g.mult(f).is_zero())\n"
   ],
   "id": "df44f1ba-0739-41bc-a126-2aa514b04302"
  },
  {
   "cell_type": "markdown",
   "metadata": {},
   "source": [
    "You can multiply a polynomial by an integer, so you can write `3*f` or\n",
    "`f*8` without problems."
   ],
   "id": "d1ddec52-c552-46f6-84a8-10d621a2cfaf"
  },
  {
   "cell_type": "code",
   "execution_count": null,
   "metadata": {},
   "outputs": [],
   "source": [
    "print(\"3*f=\", 3*f)\n",
    "print(\"f*8=\", f*8)\n",
    "print(\"120*f=\", 120*f)\n"
   ],
   "id": "849b52cf-c1d5-44e6-9971-f8bf137f03ab"
  },
  {
   "cell_type": "markdown",
   "metadata": {},
   "source": [
    "## Division with remainder\n",
    "\n",
    "We can divide by *monic* polynomials; the \"quotient\" is obtained with\n",
    "the method `div`, the \"remainder\" with the method `mod`.\n",
    "\n",
    "To check whether a polynomial is monic, we can use the method\n",
    "`is_monic`."
   ],
   "id": "07b26645-3b62-4b10-afb8-5586e521157c"
  },
  {
   "cell_type": "code",
   "execution_count": null,
   "metadata": {},
   "outputs": [],
   "source": [
    "print(\"Is f monic?  f.is_monic()=\", f.is_monic())\n",
    "print(\"Is g monic?  g.is_monic()=\", g.is_monic())\n"
   ],
   "id": "af55b2de-fd86-464f-b197-55ac1bf4595f"
  },
  {
   "cell_type": "code",
   "execution_count": null,
   "metadata": {},
   "outputs": [],
   "source": [
    "print(\"Division with remainder: f= g*q + r where\")\n",
    "q = f.div(g)\n",
    "r = f.mod(g)\n",
    "print(\"  q=\", q)\n",
    "print(\"  r=\", r)\n"
   ],
   "id": "5110f697-a1a0-49b6-8e99-d63ef1850d97"
  },
  {
   "cell_type": "code",
   "execution_count": null,
   "metadata": {},
   "outputs": [],
   "source": [
    "print(\"Test this: g*q + r == f?\")\n",
    "print(g*q+r == f)\n"
   ],
   "id": "965423b5-0d64-4470-85d7-743a5ec10841"
  },
  {
   "cell_type": "markdown",
   "metadata": {},
   "source": [
    "However, dividing by a polynomial that is not monic results in a error:"
   ],
   "id": "8a57c587-c2e8-483b-b998-c451ce7bf4e8"
  },
  {
   "cell_type": "code",
   "execution_count": null,
   "metadata": {},
   "outputs": [],
   "source": [
    "print(\"Try to divide g by the polynomial f.\")\n",
    "print(\"This will fail since f is not monic. Error message:\")\n",
    "h = g.div(f)\n",
    "print(\"  g div f=\", h)\n"
   ],
   "id": "e7f317a6-a85f-462b-b6cb-4c5a73c08a87"
  }
 ],
 "nbformat": 4,
 "nbformat_minor": 5,
 "metadata": {}
}
