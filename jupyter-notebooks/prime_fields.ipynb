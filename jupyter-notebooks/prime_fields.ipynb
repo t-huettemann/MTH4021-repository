{
 "cells": [
  {
   "cell_type": "markdown",
   "metadata": {},
   "source": [
    "# Prime fields\n",
    "\n",
    "> **Remember to save a copy of the file so that you can edit it.**\n",
    "> (Click \"File\", then \"Save a copy to Drive\")\n",
    "\n",
    "There's a built-in class to model $\\mathbb{Q}$, and built-in support for\n",
    "finite prime fields (which are of the form $\\mathbb{F}_p =\n",
    "\\mathbb{Z}/p$, for some prime $p$).\n",
    "\n",
    "## Installing the required packages"
   ],
   "id": "14f0a699-8d62-4dcd-a07a-a002df195aad"
  },
  {
   "cell_type": "code",
   "execution_count": null,
   "metadata": {},
   "outputs": [],
   "source": [
    "# This installs the required packages.\n",
    "# Don't delete this cell!\n",
    "%pip install gmpy2\n",
    "%pip install primefac\n",
    "%pip install \"git+https://github.com/t-huettemann/MTH4021-repository-experimental.git#subdirectory=modules/rings_and_fields\"\n"
   ],
   "id": "dca7f9ae-1911-4c0b-bf77-d8da24b51b8c"
  },
  {
   "cell_type": "markdown",
   "metadata": {},
   "source": [
    "## Setting up"
   ],
   "id": "7dfddfea-b866-4e89-b97a-ccc73bb740a1"
  },
  {
   "cell_type": "code",
   "execution_count": null,
   "metadata": {},
   "outputs": [],
   "source": [
    "import rings_and_fields as rf\n"
   ],
   "id": "ae29f6e6-1869-4695-a0dd-49f266231b7b"
  },
  {
   "cell_type": "markdown",
   "metadata": {},
   "source": [
    "## Characteristic 0: Working with rational numbers"
   ],
   "id": "6b847f40-8947-4f89-a6a8-8ed110c203ef"
  },
  {
   "cell_type": "code",
   "execution_count": null,
   "metadata": {},
   "outputs": [],
   "source": [
    "Q = rf.Q()\n",
    "print(\"Q =\", Q)\n",
    "x = Q('7/11')\n",
    "y = Q(3)\n",
    "z = Q(-9)\n",
    "print(\"y / z =\", y, \"/\", z, \"=\", y/z)\n",
    "print(\"x + y =\", x, \"+\", y, \"=\", x+y)\n",
    "print(\"11x =\", 11*x)\n",
    "print(\"y * 2/5 =\", y*Q('2/5'))\n"
   ],
   "id": "1a113e30-cb2c-43ff-8360-efa4c26b29d1"
  },
  {
   "cell_type": "markdown",
   "metadata": {},
   "source": [
    "## Characteristic $p$: Working with finite prime fields\n",
    "\n",
    "This uses the class `primefield`. The constructor takes a single\n",
    "element, a prime number; note that the package `primefac` is used to\n",
    "verify that the argument is indeed a prime (at least with overwhelming\n",
    "probability). This may take some time if the prime is really large."
   ],
   "id": "84428ec5-5e12-48a7-aa1d-cc104b32bd56"
  },
  {
   "cell_type": "code",
   "execution_count": null,
   "metadata": {},
   "outputs": [],
   "source": [
    "F = rf.primefield(37)\n",
    "print(\"F =\", F)\n",
    "a = F(12)\n",
    "b = F(25)\n",
    "print(\"a * b =\", a, \"*\", b, \"=\", a*b)\n",
    "print(\"a / b =\", a, \"/\", b, \"=\", a/b)\n"
   ],
   "id": "84c34fbc-1bd5-4703-9356-382bf03d4d4a"
  }
 ],
 "nbformat": 4,
 "nbformat_minor": 5,
 "metadata": {}
}
