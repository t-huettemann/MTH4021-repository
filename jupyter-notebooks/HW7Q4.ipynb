{
 "cells": [
  {
   "cell_type": "markdown",
   "metadata": {},
   "source": [
    "# Sandpit for Homework 7, Q4 (iv)\n",
    "\n",
    "> **Remember to save a copy of the file so that you can edit it.**\n",
    "> (Click \"File\", then \"Save a copy to Drive\")\n",
    "\n",
    "This is a \"sandpit\" for trying out Homework 7, Question 4 (iv).\n",
    "\n",
    "## Installing the required packages"
   ],
   "id": "f247718b-7a37-4f84-8356-5c814db138df"
  },
  {
   "cell_type": "code",
   "execution_count": null,
   "metadata": {},
   "outputs": [],
   "source": [
    "# This installs the required packages.\n",
    "# Don't delete this cell!\n",
    "%pip install gmpy2\n",
    "%pip install primefac\n",
    "%pip install \"git+https://github.com/t-huettemann/MTH4021-repository-experimental.git#subdirectory=modules/rings_and_fields\"\n"
   ],
   "id": "38a0dd7c-9aab-4fcb-ae76-aa5d33025217"
  },
  {
   "cell_type": "markdown",
   "metadata": {},
   "source": [
    "## Setting up"
   ],
   "id": "6e8c4d32-e145-4044-8c5d-30b05972667b"
  },
  {
   "cell_type": "code",
   "execution_count": null,
   "metadata": {},
   "outputs": [],
   "source": [
    "import rings_and_fields as rf\n"
   ],
   "id": "6ad4aab5-ce6b-4242-bdf4-b75394c9a804"
  },
  {
   "cell_type": "markdown",
   "metadata": {},
   "source": [
    "## Defining the Galois field\n",
    "\n",
    "For demonstration, we'll work with the Galois field $GF(9) =\n",
    "\\mathbb{F}_{3}[i]/(i^2+1)$. (We use the indeterminate $i$ instead of $x$\n",
    "to emphasise the similarity with complex numbers.) Actually we'll check\n",
    "if the polynomial $i^2+1$ is indeed irreducible, just to be sure."
   ],
   "id": "a1f35bdd-d67d-4054-b3c3-023b6e3e0ac5"
  },
  {
   "cell_type": "code",
   "execution_count": null,
   "metadata": {},
   "outputs": [],
   "source": [
    "F = rf.primefield(3)\n",
    "P = rf.polynomialring_over_field(F, i=\"i\") # we use the indeterminate \"i\" here\n",
    "                                           # so elements of the Galois field\n",
    "                                           # will look like \"complex numbers\n",
    "                                           # over F_3\"\n",
    "m = P([1,0,1])   #  this defines the polynomial 1 + i^2 in P,\n",
    "                 #  specified as a list of coefficients\n",
    "                 #  starting with the constant coefficient\n",
    "print(\"Modulus m=\", m)\n",
    "print(\"m is irreducible:\", m.is_irreducible())\n",
    "K = rf.Galoisfield(m, print_modulus = False)\n",
    "print(\"K=\", K)\n"
   ],
   "id": "1dd3475c-cb47-4c3e-88b2-51122a334423"
  },
  {
   "cell_type": "markdown",
   "metadata": {},
   "source": [
    "## Some computations related to part (ii)\n",
    "\n",
    "We know (from the homework question) that $z \\in GF(9)$ is a generator\n",
    "if and only if $z^4 \\neq 1$. We can check the specific element\n",
    "represented by $i-1$:"
   ],
   "id": "ed2d62ba-fd4d-402e-95a7-dd3b9b84706d"
  },
  {
   "cell_type": "code",
   "execution_count": null,
   "metadata": {},
   "outputs": [],
   "source": [
    "z = K([-1,1]) # the element is specified as a list\n",
    "              # of coefficients of a polynomial,\n",
    "              # with the constant coefficient coming first.\n",
    "if z.power(4).is_one():\n",
    "    print(\"No luck:\", \"z=\", z, \"is not a generator.\")\n",
    "else:\n",
    "    print(\"Success:\", \"z=\", z, \"is a generator.\")\n"
   ],
   "id": "f2642bae-1423-4a07-b03d-20576fddbc24"
  },
  {
   "cell_type": "markdown",
   "metadata": {},
   "source": [
    "We could also check *all* non-zero elements of our Galois field, because\n",
    "we can iterate over the elements of $GF(9)$. And since we're at it, we\n",
    "can also *count* the number of generators:"
   ],
   "id": "78a933b6-6fb2-464e-b2cf-90befd30f184"
  },
  {
   "cell_type": "code",
   "execution_count": null,
   "metadata": {},
   "outputs": [],
   "source": [
    "n = 0\n",
    "for z in K:\n",
    "    if z.is_zero():\n",
    "        continue   # 0 is never a generator, it's not a unit!\n",
    "    if z.power(4).is_one():\n",
    "        print(\"No luck:\", \"z=\", z, \"is not a generator.\")\n",
    "    else:\n",
    "        print(\"Success:\", \"z=\", z, \"is a generator.\")\n",
    "        n += 1\n",
    "print(f\"There are {n} generators.\")\n"
   ],
   "id": "5bba74d5-7edb-4304-a72d-c60aa5627647"
  },
  {
   "cell_type": "markdown",
   "metadata": {},
   "source": [
    "## Try it yourself!\n",
    "\n",
    "And here you can try to do the calculations for part (iv) in Python, or\n",
    "of course you can edit and adapt the code above.\n",
    "\n",
    "The tasks are:\n",
    "\n",
    "$\\bullet$ Define the Galois field $GF(3^4)$ as\n",
    "$\\mathbb{F}_{3}[x]/(x^4+2x^3+x^2+x+2)$.\n",
    "\n",
    "(•\\\\ Verify that the element represented by $x^3+2x^2+1$ is a generator\n",
    "of $K^{\\times}$.\n",
    "\n",
    "$\\bullet$ Verify that the element represented by $2x^3+2x^2+2x+1$ is\n",
    "*not* a generator.\n",
    "\n",
    "Have fun!"
   ],
   "id": "5a84e5ad-2608-4134-ab87-7069004e2321"
  },
  {
   "cell_type": "code",
   "execution_count": null,
   "metadata": {},
   "outputs": [],
   "source": [
    "# Enter your code here\n"
   ],
   "id": "ece39686-b368-4b11-bcb5-8325b2d19e5e"
  }
 ],
 "nbformat": 4,
 "nbformat_minor": 5,
 "metadata": {}
}
