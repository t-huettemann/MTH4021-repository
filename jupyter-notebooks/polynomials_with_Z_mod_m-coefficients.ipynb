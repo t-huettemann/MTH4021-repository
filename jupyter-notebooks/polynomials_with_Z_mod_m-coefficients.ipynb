{
 "cells": [
  {
   "cell_type": "markdown",
   "metadata": {},
   "source": [
    "# Polynomials with $\\mathbb{Z}/n$-coefficients\n",
    "\n",
    "> **Remember to save a copy of the file so that you can edit it.**\n",
    "> (Click \"File\", then \"Save a copy to Drive\")\n",
    "\n",
    "## Installing the required packages"
   ],
   "id": "93f40e77-adde-47ef-9dde-d6ddb259e6ff"
  },
  {
   "cell_type": "code",
   "execution_count": null,
   "metadata": {},
   "outputs": [],
   "source": [
    "# This installs the required packages.\n",
    "# Don't delete this cell!\n",
    "%pip install gmpy2\n",
    "%pip install primefac\n",
    "%pip install \"git+https://github.com/t-huettemann/MTH4021-repository-experimental.git#subdirectory=modules/rings_and_fields\"\n"
   ],
   "id": "da0e6bad-a05a-40f3-84e0-8caf9d259294"
  },
  {
   "cell_type": "markdown",
   "metadata": {},
   "source": [
    "## Setting up"
   ],
   "id": "b48e36b6-f672-4692-99d8-11fd4cfbd1a2"
  },
  {
   "cell_type": "code",
   "execution_count": null,
   "metadata": {},
   "outputs": [],
   "source": [
    "import rings_and_fields as rf\n"
   ],
   "id": "88b4c029-5294-48a8-9dd1-561a9b7285c9"
  },
  {
   "cell_type": "markdown",
   "metadata": {},
   "source": [
    "## Defining the relevant rings\n",
    "\n",
    "We'll work with the ring $\\mathbb{Z}/60$ for illustration. We need to\n",
    "set up two Python objects: `R` representing the ring $\\mathbb{Z}/60$,\n",
    "and `P` representing the polynomial ring $(\\mathbb{Z}/60)[x]$."
   ],
   "id": "13f370e3-3b06-4b97-80d7-ecb904d07152"
  },
  {
   "cell_type": "code",
   "execution_count": null,
   "metadata": {},
   "outputs": [],
   "source": [
    "R = rf.zmod(60)\n",
    "P = rf.polynomialring(R)\n",
    "print(\"Ring of integers modulo 60:\", R)\n",
    "print(\"Ring of polynomials with coefficients in R:\", P)\n"
   ],
   "id": "54ff05bb-494b-423e-b786-190401ab9780"
  },
  {
   "cell_type": "markdown",
   "metadata": {},
   "source": [
    "## Defining polynomials, basic calculations"
   ],
   "id": "bc4f141c-1a6f-4514-bd25-d8797cd149ef"
  },
  {
   "cell_type": "code",
   "execution_count": null,
   "metadata": {},
   "outputs": [],
   "source": [
    "f = P([27, 0, 12, -1, 33])\n",
    "g = P([5, -40, 1])\n",
    "print(\"f=\", f)\n",
    "print(\"g=\", g)\n"
   ],
   "id": "20482f65-87dc-428b-bb6b-a8dad3c31fe9"
  },
  {
   "cell_type": "code",
   "execution_count": null,
   "metadata": {},
   "outputs": [],
   "source": [
    "print(\"f * g =\", f*g)\n",
    "print(\"f - g =\", f-g)\n",
    "print(\"f^4=\", f.power(4))\n",
    "print(\"g*f = 0?\", g.mult(f).is_zero())\n"
   ],
   "id": "d0171c4b-6d49-4d27-9ac9-81471f45018f"
  },
  {
   "cell_type": "markdown",
   "metadata": {},
   "source": [
    "You can multiply a polynomial by an integer, so you can write `3*f` or\n",
    "`f*8` without problems."
   ],
   "id": "6b0d86b5-3b0e-4f4d-9030-02601786e033"
  },
  {
   "cell_type": "code",
   "execution_count": null,
   "metadata": {},
   "outputs": [],
   "source": [
    "print(\"3*f=\", 3*f)\n",
    "print(\"f*8=\", f*8)\n",
    "print(\"120*f=\", 120*f)\n"
   ],
   "id": "d2d8ab31-b85e-4fd5-9629-34d12072e997"
  },
  {
   "cell_type": "markdown",
   "metadata": {},
   "source": [
    "## Division with remainder\n",
    "\n",
    "We can divide by *monic* polynomials; the \"quotient\" is obtained with\n",
    "the method `div`, the \"remainder\" with the method `mod`.\n",
    "\n",
    "To check whether a polynomial is monic, we can use the method\n",
    "`is_monic`."
   ],
   "id": "bf0d83bf-01c2-4dea-919c-e34e7627ba1c"
  },
  {
   "cell_type": "code",
   "execution_count": null,
   "metadata": {},
   "outputs": [],
   "source": [
    "print(\"Is f monic?  f.is_monic()=\", f.is_monic())\n",
    "print(\"Is g monic?  g.is_monic()=\", g.is_monic())\n"
   ],
   "id": "e50d6691-f661-4ed0-9ee3-28993a3f16e8"
  },
  {
   "cell_type": "code",
   "execution_count": null,
   "metadata": {},
   "outputs": [],
   "source": [
    "print(\"Division with remainder: f= g*q + r where\")\n",
    "q = f.div(g)\n",
    "r = f.mod(g)\n",
    "print(\"  q=\", q)\n",
    "print(\"  r=\", r)\n"
   ],
   "id": "57fb0415-c0b2-4a19-b5c4-3718df9d29e9"
  },
  {
   "cell_type": "code",
   "execution_count": null,
   "metadata": {},
   "outputs": [],
   "source": [
    "print(\"Test this: g*q + r == f?\")\n",
    "print(g*q+r == f)\n"
   ],
   "id": "0b875fc4-e7e8-40a2-bf3b-fffadfb2df52"
  },
  {
   "cell_type": "markdown",
   "metadata": {},
   "source": [
    "However, dividing by a polynomial that is not monic results in a error:"
   ],
   "id": "6b360490-39bc-4322-99ec-df17bb2eb02b"
  },
  {
   "cell_type": "code",
   "execution_count": null,
   "metadata": {},
   "outputs": [],
   "source": [
    "print(\"Try to divide g by the polynomial f.\")\n",
    "print(\"This will fail since f is not monic. Error message:\")\n",
    "h = g.div(f)\n",
    "print(\"  g div f=\", h)\n"
   ],
   "id": "c6610bbb-1915-4278-a636-a73357b6e8e2"
  }
 ],
 "nbformat": 4,
 "nbformat_minor": 5,
 "metadata": {}
}
