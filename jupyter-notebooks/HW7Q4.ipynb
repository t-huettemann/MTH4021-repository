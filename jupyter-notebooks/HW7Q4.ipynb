{
 "cells": [
  {
   "cell_type": "markdown",
   "metadata": {},
   "source": [
    "# Sandpit for Homework 7, Q4 (iv)\n",
    "\n",
    "> **Remember to save a copy of the file so that you can edit it.**\n",
    "> (Click \"File\", then \"Save a copy to Drive\")\n",
    "\n",
    "This is a \"sandpit\" for trying out Homework 7, Question 4 (iv).\n",
    "\n",
    "## Installing the required packages"
   ],
   "id": "1871e33d-5345-4e3d-9e66-1c971f76c602"
  },
  {
   "cell_type": "code",
   "execution_count": null,
   "metadata": {},
   "outputs": [],
   "source": [
    "# This installs the required packages.\n",
    "# Don't delete this cell!\n",
    "%pip install gmpy2\n",
    "%pip install primefac\n",
    "%pip install \"git+https://github.com/t-huettemann/MTH4021-repository-experimental.git#subdirectory=modules/rings_and_fields\"\n"
   ],
   "id": "6f434327-dfc6-487b-984e-f1d8f67084b7"
  },
  {
   "cell_type": "markdown",
   "metadata": {},
   "source": [
    "## Setting up"
   ],
   "id": "4888b844-902d-4142-9778-897184af0e3e"
  },
  {
   "cell_type": "code",
   "execution_count": null,
   "metadata": {},
   "outputs": [],
   "source": [
    "import rings_and_fields as rf\n"
   ],
   "id": "1e6589b2-3a82-479b-8683-b216bf55cba2"
  },
  {
   "cell_type": "markdown",
   "metadata": {},
   "source": [
    "## Defining the Galois field\n",
    "\n",
    "For demonstration, we'll work with the Galois field $GF(9) =\n",
    "\\mathbb{F}_{3}[i]/(i^2+1)$. (We use the indeterminate $i$ instead of $x$\n",
    "to emphasise the similarity with complex numbers.) Actually we'll check\n",
    "if the polynomial $i^2+1$ is indeed irreducible, just to be sure."
   ],
   "id": "1275d161-dfda-45ef-ac80-9112f0487773"
  },
  {
   "cell_type": "code",
   "execution_count": null,
   "metadata": {},
   "outputs": [],
   "source": [
    "F = rf.primefield(3)\n",
    "P = rf.polynomialring_over_field(F, i=\"i\") # we use the indeterminate \"i\" here\n",
    "                                           # so elements of the Galois field\n",
    "                                           # will look like \"complex numbers\n",
    "                                           # over F_3\"\n",
    "m = P([1,0,1])   #  this defines the polynomial 1 + i^2 in P,\n",
    "                 #  specified as a list of coefficients\n",
    "                 #  starting with the constant coefficient\n",
    "print(\"Modulus m=\", m)\n",
    "print(\"m is irreducible:\", m.is_irreducible())\n",
    "K = rf.Galoisfield(m, print_modulus = False)\n",
    "print(\"K=\", K)\n"
   ],
   "id": "4d567ff4-8206-4583-bb85-996d5846e81f"
  },
  {
   "cell_type": "markdown",
   "metadata": {},
   "source": [
    "## Some computations related to part (ii)\n",
    "\n",
    "We know (from the homework question) that $z \\in GF(9)$ is a generator\n",
    "if and only if $z^4 \\neq 1$. We can check the specific element\n",
    "represented by $i-1$:"
   ],
   "id": "c10951f6-901a-4a51-a629-7df5ab8cd9e6"
  },
  {
   "cell_type": "code",
   "execution_count": null,
   "metadata": {},
   "outputs": [],
   "source": [
    "z = K([-1,1]) # the element is specified as a list\n",
    "              # of coefficients of a polynomial,\n",
    "              # with the constant coefficient coming first.\n",
    "if z.power(4).is_one():\n",
    "    print(\"No luck:\", \"z=\", z, \"is not a generator.\")\n",
    "else:\n",
    "    print(\"Success:\", \"z=\", z, \"is a generator.\")\n"
   ],
   "id": "01a8cbe5-9f44-44cf-8693-e15bbd579a14"
  },
  {
   "cell_type": "markdown",
   "metadata": {},
   "source": [
    "We could also check *all* non-zero elements of our Galois field, because\n",
    "we can iterate over the elements of $GF(9)$. And since we're at it, we\n",
    "can also *count* the number of generators:"
   ],
   "id": "5c77553e-f3e7-452a-83c7-e2d480af74ec"
  },
  {
   "cell_type": "code",
   "execution_count": null,
   "metadata": {},
   "outputs": [],
   "source": [
    "n = 0\n",
    "for z in K:\n",
    "    if z.is_zero():\n",
    "        continue   # 0 is never a generator, it's not a unit!\n",
    "    if z.power(4).is_one():\n",
    "        print(\"No luck:\", \"z=\", z, \"is not a generator.\")\n",
    "    else:\n",
    "        print(\"Success:\", \"z=\", z, \"is a generator.\")\n",
    "        n += 1\n"
   ],
   "id": "bc0f7e3a-8da0-4328-b38a-bca0eb9b4a8b"
  },
  {
   "cell_type": "markdown",
   "metadata": {},
   "source": [
    "## Try yourself!\n",
    "\n",
    "And here you can try to do the calculations for part (iv) in Python, or\n",
    "of course you can edit and adapt the code above. Have fun!"
   ],
   "id": "27a07d5b-fed0-4f12-98aa-07748dcb1bf4"
  },
  {
   "cell_type": "code",
   "execution_count": null,
   "metadata": {},
   "outputs": [],
   "source": [
    "# Enter your code here\n"
   ],
   "id": "67cb11d2-7512-4d4a-83fe-c3e6ece1993f"
  }
 ],
 "nbformat": 4,
 "nbformat_minor": 5,
 "metadata": {}
}
