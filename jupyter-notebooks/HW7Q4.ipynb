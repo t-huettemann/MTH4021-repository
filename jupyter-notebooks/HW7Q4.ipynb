{
 "cells": [
  {
   "cell_type": "markdown",
   "metadata": {},
   "source": [
    "# Sandpit for Homework 7, Q4 (iv)\n",
    "\n",
    "> **Remember to save a copy of the file so that you can edit it.**\n",
    "> (Click \"File\", then \"Save a copy to Drive\")\n",
    "\n",
    "This is a \"sandpit\" for trying out Homework 7, Question 4 (iv).\n",
    "\n",
    "## Installing the required packages"
   ],
   "id": "4c98d8b6-ab74-4010-978d-4abaf917625e"
  },
  {
   "cell_type": "code",
   "execution_count": null,
   "metadata": {},
   "outputs": [],
   "source": [
    "# This installs the required packages.\n",
    "# Don't delete this cell!\n",
    "%pip install gmpy2\n",
    "%pip install primefac\n",
    "%pip install \"git+https://github.com/t-huettemann/MTH4021-repository-experimental.git#subdirectory=modules/rings_and_fields\"\n"
   ],
   "id": "02bb3336-b3a4-4f58-b448-ab706e67c454"
  },
  {
   "cell_type": "markdown",
   "metadata": {},
   "source": [
    "## Setting up"
   ],
   "id": "08ab64fa-ab19-4bf0-b81e-0f0d3cf1434d"
  },
  {
   "cell_type": "code",
   "execution_count": null,
   "metadata": {},
   "outputs": [],
   "source": [
    "import rings_and_fields as rf\n"
   ],
   "id": "cc1e751c-11e2-4c50-bf59-c9af0f487754"
  },
  {
   "cell_type": "markdown",
   "metadata": {},
   "source": [
    "## Defining the Galois field\n",
    "\n",
    "For demonstration, we'll work with the Galois field $GF(9) =\n",
    "\\mathbb{F}_{3}[i]/(i^2+1)$. (We use the indeterminate $i$ instead of $x$\n",
    "to emphasise the similarity with complex numbers.) Actually we'll check\n",
    "if the polynomial $i^2+1$ is indeed irreducible, just to be sure."
   ],
   "id": "9f974082-8ee8-43da-8c88-423789432a27"
  },
  {
   "cell_type": "code",
   "execution_count": null,
   "metadata": {},
   "outputs": [],
   "source": [
    "F = rf.primefield(3)\n",
    "P = rf.polynomialring_over_field(F, i=\"i\") # we use the indeterminate \"i\" here\n",
    "                                           # so elements of the Galois field\n",
    "                                           # will look like \"complex numbers\n",
    "                                           # over F_3\"\n",
    "m = P([1,0,1])   #  this defines the polynomial 1 + i^2 in P,\n",
    "                 #  specified as a list of coefficients\n",
    "                 #  starting with the constant coefficient\n",
    "print(\"Modulus m=\", m)\n",
    "print(\"m is irreducible:\", m.is_irreducible())\n",
    "K = rf.Galoisfield(m, print_modulus = False)\n",
    "print(\"K=\", K)\n"
   ],
   "id": "4aabf6ee-e11d-4daf-8cf0-8dbd5602b3af"
  },
  {
   "cell_type": "markdown",
   "metadata": {},
   "source": [
    "## Some computations related to part (ii)\n",
    "\n",
    "We know (from the homework question) that $z \\in GF(9)$ is a generator\n",
    "if and only if $z^4 \\neq 1$. We can check the specific element\n",
    "represented by $i-1$:"
   ],
   "id": "b08fee89-e856-44f9-a369-3b6470a3c9b3"
  },
  {
   "cell_type": "code",
   "execution_count": null,
   "metadata": {},
   "outputs": [],
   "source": [
    "z = K([-1,1]) # the element is specified as a list\n",
    "              # of coefficients of a polynomial,\n",
    "              # with the constant coefficient coming first.\n",
    "if z.power(4).is_one():\n",
    "    print(\"No luck:\", \"z=\", z, \"is not a generator.\")\n",
    "else:\n",
    "    print(\"Success:\", \"z=\", z, \"is a generator.\")\n"
   ],
   "id": "830d00ef-62c1-4546-96af-3b7aafcc7c72"
  },
  {
   "cell_type": "markdown",
   "metadata": {},
   "source": [
    "We could also check *all* non-zero elements of our Galois field, because\n",
    "we can iterate over the elements of $GF(9)$. And since we're at it, we\n",
    "can also *count* the number of generators:"
   ],
   "id": "d49d894a-a7b9-42b3-a08f-91ce4f6cd729"
  },
  {
   "cell_type": "code",
   "execution_count": null,
   "metadata": {},
   "outputs": [],
   "source": [
    "n = 0\n",
    "for z in K:\n",
    "    if z.is_zero():\n",
    "        continue   # 0 is never a generator, it's not a unit!\n",
    "    if z.power(4).is_one():\n",
    "        print(\"No luck:\", \"z=\", z, \"is not a generator.\")\n",
    "    else:\n",
    "        print(\"Success:\", \"z=\", z, \"is a generator.\")\n",
    "        n += 1\n",
    "print(f\"There are {n} generators.\")\n"
   ],
   "id": "84398ccd-fbc0-4e2d-a9e8-21ae1a571d08"
  },
  {
   "cell_type": "markdown",
   "metadata": {},
   "source": [
    "## Try it yourself!\n",
    "\n",
    "And here you can try to do the calculations for part (iv) in Python, or\n",
    "of course you can edit and adapt the code above.\n",
    "\n",
    "The tasks are:\n",
    "\n",
    "$\\bullet$ Define the Galois field $GF(3^4)$ as\n",
    "$\\mathbb{F}_{3}[x]/(x^4+2x^3+x^2+x+2)$.\n",
    "\n",
    "$\\bullet$ Verify that the element represented by $x^3+2x^2+1$ is a\n",
    "generator of $K^{\\times}$.\n",
    "\n",
    "$\\bullet$ Verify that the element represented by $2x^3+2x^2+2x+1$ is\n",
    "*not* a generator.\n",
    "\n",
    "Have fun!"
   ],
   "id": "0b757b77-cf6f-4412-8f35-45ee6fd38ddc"
  },
  {
   "cell_type": "code",
   "execution_count": null,
   "metadata": {},
   "outputs": [],
   "source": [
    "# Enter your code here\n"
   ],
   "id": "5b99b0b1-9887-4fdf-bd0f-96a32f6784cc"
  }
 ],
 "nbformat": 4,
 "nbformat_minor": 5,
 "metadata": {}
}
