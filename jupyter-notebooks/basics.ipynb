{
 "cells": [
  {
   "cell_type": "markdown",
   "metadata": {},
   "source": [
    "# Basics: Working with $\\mathbb{Z}$, $\\mathbb{Q}$, $\\mathbb{Z}/m$ and $\\mathbb{F}_p$\n",
    "\n",
    "## Run this cell first\n",
    "\n",
    "This cell installs the non-standard Python packages."
   ],
   "id": "92c69eb0-fc26-4b33-90ee-b8b9c3c4eff1"
  },
  {
   "cell_type": "code",
   "execution_count": null,
   "metadata": {},
   "outputs": [],
   "source": [
    "# This installs the required packages.\n",
    "# Don't delete this cell!\n",
    "try:\n",
    "  import gmpy2\n",
    "except (ModuleNotFoundError, ImportError):\n",
    "  %pip install gmpy2\n",
    "  import gmpy2\n",
    "\n",
    "try:\n",
    "  import primefac\n",
    "except (ModuleNotFoundError, ImportError):\n",
    "  %pip install primefac\n",
    "  import primefac\n"
   ],
   "id": "6c3aa788-87f6-40a9-bdfd-44a9d6e06474"
  },
  {
   "cell_type": "markdown",
   "metadata": {},
   "source": [
    "## Setting up"
   ],
   "id": "170ce7bb-8edb-4ff1-9f96-2860e18d1e6a"
  },
  {
   "cell_type": "code",
   "execution_count": null,
   "metadata": {},
   "outputs": [],
   "source": [
    "try:\n",
    "  import rings_and_fields as rf\n",
    "except (ModuleNotFoundError, ImportError):\n",
    "  %pip install \"git+https://github.com/t-huettemann/MTH4021-repository.git#subdirectory=packages\"\n",
    "  import rings_and_fields as rf\n"
   ],
   "id": "79095112-c826-4313-8e22-5d479021ce23"
  },
  {
   "cell_type": "markdown",
   "metadata": {},
   "source": [
    "## Working with integers and rationals\n",
    "\n",
    "The main point to note is that we need to \"declare\" the rings (that is,\n",
    "create instances of the relevant classes - we need ring objects to work\n",
    "with). Elements of the rings are also instances of classes, and can be\n",
    "created as shown in the following example.\n",
    "\n",
    "Internally, the integer class `fields_and_rings.Z` is a wrapper for the\n",
    "class `gmpy2.mpz`. The methods `div` and `mod` for modular arithmetic\n",
    "call `gmpy2.f_div` and `gmpy2.f_mod`, which means that the quotient is\n",
    "round *down*; bear this in mind when using negative integers."
   ],
   "id": "146c9302-50b9-4710-98e3-60e633353821"
  },
  {
   "cell_type": "code",
   "execution_count": null,
   "metadata": {},
   "outputs": [],
   "source": [
    "Z = rf.Z()      # create an object representing the set of integers\n",
    "m = Z(34)       # create an integer\n",
    "n = Z(4)        # and another one\n",
    "print(\"m=\", m)\n",
    "print(\"n=\", n)\n",
    "print(\"3*m + n^8 =\", 3*m + n.power(8))\n",
    "print(\"Division with remainder: m div n =\", m.div(n), \"with remainder\", m.mod(n))\n",
    "print(\"\")\n",
    "Q = rf.Q()      # create an object representing the set of rationals\n",
    "x = Q('3/4')    # create a rational number\n",
    "y = Q('-17/8')  # and another one\n",
    "print(\"x=\", x)\n",
    "print(\"y=\", y)\n",
    "print(\"3*x + y^8 =\", 3*x + y.power(8))\n"
   ],
   "id": "b32b22ce-5b94-46c0-b10f-54d075393f56"
  },
  {
   "cell_type": "markdown",
   "metadata": {},
   "source": [
    "## Working with $\\mathbb{Z}/m\\mathbb{Z}$: Modular arithmetic\n",
    "\n",
    "As before, we need to declare a ring object, but of course we need to\n",
    "specify the modulus in this case. Let's try out $\\mathbb{Z}/222$:"
   ],
   "id": "49af2161-b7e3-41dd-9203-826d01d87036"
  },
  {
   "cell_type": "code",
   "execution_count": null,
   "metadata": {},
   "outputs": [],
   "source": [
    "R = rf.zmod(222)  # create the ring\n",
    "a = R(34)         # create an element of R\n",
    "b = R(40000)      # and another one\n",
    "print(\"a=\", a)\n",
    "print(\"b=\", b)\n",
    "print(\"3*a + b^8 =\", 3*a + b.power(8))\n"
   ],
   "id": "a9b247aa-f8f9-404e-8e99-a2b9316dcf44"
  },
  {
   "cell_type": "markdown",
   "metadata": {},
   "source": [
    "## Working with $\\mathbb{F}_p$: Finite prime fields\n",
    "\n",
    "We can work with the \"prime fields\" $\\mathbb{F}_p$, for $p$ a prime,\n",
    "just as easily as with $\\mathbb{Z}/p$, but now we can also divide\n",
    "elements."
   ],
   "id": "c96123cb-bb91-4f6c-9e0e-9fef5b54427e"
  },
  {
   "cell_type": "code",
   "execution_count": null,
   "metadata": {},
   "outputs": [],
   "source": [
    "F = rf.primefield(59)  # create the field\n",
    "p = F(34)              # create an element of F\n",
    "q = F(40000)           # and another one\n",
    "print(\"p=\", p)\n",
    "print(\"q=\", q)\n",
    "print(\"3*p / b^8 =\", 3*p / q.power(8))\n"
   ],
   "id": "20fda356-2b07-435f-bead-22448e4f9328"
  },
  {
   "cell_type": "markdown",
   "metadata": {},
   "source": [
    "## Testing for zero and equality\n",
    "\n",
    "In all rings, you can test elements for being zero with the `is_zero`\n",
    "method. Equality and inequality can be tested as usual using `==` and\n",
    "`!=`. You can get the zero and one element of a ring by calling its\n",
    "methods `zero` and `one`."
   ],
   "id": "cdf243a8-decb-476f-9b5e-a61305ba1b5f"
  },
  {
   "cell_type": "code",
   "execution_count": null,
   "metadata": {},
   "outputs": [],
   "source": [
    "zF = F.zero()\n",
    "print(\"p+0=\", p+zF, \"in the field\", F)\n",
    "oR = R.one()\n",
    "print(\"a*1=\", a*oR, \"in the ring\", R)\n",
    "print(\"x != y?\", x != y)\n",
    "print(\"m = 0?\", m.is_zero())\n"
   ],
   "id": "bc17b517-025c-47aa-a08b-4d76b93f9dc1"
  }
 ],
 "nbformat": 4,
 "nbformat_minor": 5,
 "metadata": {}
}
