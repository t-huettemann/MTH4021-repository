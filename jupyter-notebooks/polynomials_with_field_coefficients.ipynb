{
 "cells": [
  {
   "cell_type": "markdown",
   "metadata": {},
   "source": [
    "# Polynomials with field coefficients <span class=\"tag\" tag-name=\"page\"><span class=\"smallcaps\">page</span></span>\n",
    "\n",
    "> **Remember to save a copy of the file so that you can edit it.**\n",
    "> (Click \"File\", then \"Save a copy to Drive\")\n",
    "\n",
    "## Installing the required packages"
   ],
   "id": "eab87032-56a5-400e-a477-e0fa71e4a62f"
  },
  {
   "cell_type": "code",
   "execution_count": null,
   "metadata": {},
   "outputs": [],
   "source": [
    "# This installs the required packages.\n",
    "# Don't delete this cell!\n",
    "%pip install gmpy2\n",
    "%pip install primefac\n",
    "%pip install \"git+https://github.com/t-huettemann/MTH4021-repository-experimental.git#subdirectory=modules/rings_and_fields\"\n"
   ],
   "id": "b6e852c3-a212-4bec-a929-79805c2b7d54"
  },
  {
   "cell_type": "markdown",
   "metadata": {},
   "source": [
    "## Setting up"
   ],
   "id": "a6122002-5cbc-4c35-9621-3b7a5126bb0d"
  },
  {
   "cell_type": "code",
   "execution_count": null,
   "metadata": {},
   "outputs": [],
   "source": [
    "import rings_and_fields as rf\n"
   ],
   "id": "ccd4d78e-c768-41c2-a3f5-25dac9f5d888"
  },
  {
   "cell_type": "markdown",
   "metadata": {},
   "source": [
    "## Defining a field\n",
    "\n",
    "We'll work with the field $\\mathbb{F}_{251}$ for illustration. We need\n",
    "to set up two Python objects: `F` representing the field\n",
    "$\\mathbb{F}_{251}$, and `P` representing the polynomial ring\n",
    "$\\mathbb{F}_{251}[x]$."
   ],
   "id": "bfa06867-4b5b-4104-bb5c-74baf58eba58"
  },
  {
   "cell_type": "code",
   "execution_count": null,
   "metadata": {},
   "outputs": [],
   "source": [
    "F = rf.primefield(251)\n",
    "P = rf.polynomialring_over_field(F)\n",
    "print(\"Prime field of characteristic 251:\", F)\n",
    "print(\"Ring of polynomials with coefficients in F:\", P)\n"
   ],
   "id": "4943bcc0-12a4-49ee-b397-a9094a8dacef"
  },
  {
   "cell_type": "markdown",
   "metadata": {},
   "source": [
    "## Defining polynomials, basic calculations"
   ],
   "id": "a5da7c66-fe40-40a9-9457-5b836c5bcd2a"
  },
  {
   "cell_type": "code",
   "execution_count": null,
   "metadata": {},
   "outputs": [],
   "source": [
    "f = P([27, 0, 12, 203, 33])\n",
    "g = P([5, 127, 200])\n",
    "print(\"f=\", f)\n",
    "print(\"g=\", g)\n"
   ],
   "id": "0d95ff12-b5a8-438c-bce6-753d94089031"
  },
  {
   "cell_type": "code",
   "execution_count": null,
   "metadata": {},
   "outputs": [],
   "source": [
    "print(\"f * g =\", f*g)\n",
    "print(\"f - g =\", f-g)\n",
    "print(\"f^4=\", f.power(4))\n",
    "print(\"g*f = 0?\", g.mult(f).is_zero())\n"
   ],
   "id": "e12d1ad9-6122-4ed5-a976-92d5f3ad9347"
  },
  {
   "cell_type": "markdown",
   "metadata": {},
   "source": [
    "You can multiply a polynomial by an integer, so you can write `3*f` or\n",
    "`f*8` without problems."
   ],
   "id": "95e4c414-3ad7-481a-8c74-fb8a171d8823"
  },
  {
   "cell_type": "code",
   "execution_count": null,
   "metadata": {},
   "outputs": [],
   "source": [
    "print(\"3*f=\", 3*f)\n",
    "print(\"f*8=\", f*8)\n",
    "print(\"120*f=\", 120*f)\n"
   ],
   "id": "7ed4a85c-488b-4974-80e6-67d14216a09f"
  },
  {
   "cell_type": "markdown",
   "metadata": {},
   "source": [
    "## Division with remainder\n",
    "\n",
    "We can divide by *any* non-zero polynomial (as we're working with field\n",
    "coefficients now!). The \"quotient\" is obtained with the method `div`,\n",
    "the \"remainder\" with the method `mod`."
   ],
   "id": "81bed210-ce42-45a7-a92e-e4b43c5a6c61"
  },
  {
   "cell_type": "code",
   "execution_count": null,
   "metadata": {},
   "outputs": [],
   "source": [
    "print(\"Is g monic?\", g.is_monic())\n",
    "print(\"Division with remainder: f= g*q + r where\")\n",
    "q = f.div(g)\n",
    "r = f.mod(g)\n",
    "print(\"  q=\", q)\n",
    "print(\"  r=\", r)\n"
   ],
   "id": "f5ddd89b-89ed-474c-9fb9-1d2cff4e3b19"
  },
  {
   "cell_type": "code",
   "execution_count": null,
   "metadata": {},
   "outputs": [],
   "source": [
    "print(\"Test this: g*q + r = f?\")\n",
    "print(g*q+r == f)\n"
   ],
   "id": "06cd85ed-3e22-4b64-b028-1eda98e1508e"
  },
  {
   "cell_type": "markdown",
   "metadata": {},
   "source": [
    "## Testing irreducibility\n",
    "\n",
    "When working over a finite field, it is possible to check whether a\n",
    "polynomial is irreducible or not (using Rabin's test).\n",
    "\n",
    "Let's try out a small examples over $\\mathbb{F}_{7}$ first. First the\n",
    "necessary set-up:"
   ],
   "id": "fc70557b-e223-4125-a1dd-40b3ef7edf3f"
  },
  {
   "cell_type": "code",
   "execution_count": null,
   "metadata": {},
   "outputs": [],
   "source": [
    "K = rf.primefield(7)\n",
    "print(\"K=\", K)\n",
    "Q = rf.polynomialring_over_field(K)\n",
    "print(\"Q=\", Q)\n"
   ],
   "id": "204990e3-0a2b-4c75-9e64-9200edd1efdf"
  },
  {
   "cell_type": "markdown",
   "metadata": {},
   "source": [
    "We test two fixed polynomials, and also a randomly chosen polynomial of\n",
    "degree at most 3."
   ],
   "id": "cd6f7737-8e36-48c0-b90e-1e31c03eb5c4"
  },
  {
   "cell_type": "code",
   "execution_count": null,
   "metadata": {},
   "outputs": [],
   "source": [
    "p = Q([1,2,3,4])\n",
    "print(\"p=\", p)\n",
    "print(\"Is the polynomial\", p, \"irreducible?\", p.is_irreducible())\n",
    "q = Q([2,5,0,1])\n",
    "print(\"Is the polynomial\", q, \"irreducible?\", q.is_irreducible())\n",
    "z = Q([K.random_element() for i in range(4)])\n",
    "print(\"Is the polynomial\", z, \"irreducible?\", z.is_irreducible())\n"
   ],
   "id": "12a79c06-de8b-4601-9b52-65f1e6a9410e"
  },
  {
   "cell_type": "markdown",
   "metadata": {},
   "source": [
    "Now let's try some higher-degree examples!"
   ],
   "id": "6a00e299-990d-4c98-b059-c72a430978b5"
  },
  {
   "cell_type": "code",
   "execution_count": null,
   "metadata": {},
   "outputs": [],
   "source": [
    "p1 = Q([4,2,5,6,4,1,3,5,3,1,4,1])\n",
    "print(\"p=\", p)\n",
    "print(\"Is the polynomial\", p1, \"irreducible?\", p1.is_irreducible())\n",
    "q1 = Q([4,2,5,5,4,1,3,5,3,1,4,1])\n",
    "print(\"Is the polynomial\", q1, \"irreducible?\", q1.is_irreducible())\n"
   ],
   "id": "882d942e-fad7-445a-bba5-c1c450c2dcac"
  },
  {
   "cell_type": "markdown",
   "metadata": {},
   "source": [
    "## Another example\n",
    "\n",
    "-   $K = \\mathbb{F}_{19}$\n",
    "-   $f = 2x^3 + 4x^2 + 9$\n",
    "-   $g = 14x^2 + 12x + 13$\n",
    "\n",
    "The resultant of $f$ and $g$ is $\\mathrm{Res}_{3,2}(f,g) =\n",
    "228,636 \\equiv 9 \\mod 19$, so $f$ and $g$ do not have a common\n",
    "non-trivial factor.\n",
    "\n",
    "Let's try to check this a bit. Is $228,636 \\equiv 9 \\mod 19$ actually\n",
    "true?"
   ],
   "id": "944172dd-ce4a-4c54-8485-b81496ff2a9b"
  },
  {
   "cell_type": "code",
   "execution_count": null,
   "metadata": {},
   "outputs": [],
   "source": [
    "L = rf.primefield(19)\n",
    "rr = L(228636)\n",
    "print(rr, \"= 228,636 in the field\", L)\n"
   ],
   "id": "e30a3397-5f10-483d-b1eb-d56da8a81c15"
  },
  {
   "cell_type": "markdown",
   "metadata": {},
   "source": [
    "Looks good. Let's compute the remainder when dividing $f$ by $g$, to\n",
    "make sure that $g$ isn't a factor of $f$:"
   ],
   "id": "055357af-e5ed-4a13-af14-5071ccf1e07b"
  },
  {
   "cell_type": "code",
   "execution_count": null,
   "metadata": {},
   "outputs": [],
   "source": [
    "T = rf.polynomialring_over_field(L)\n",
    "f = T([9,0,4,2])\n",
    "print(\"f=\", f)\n",
    "g = T([13,12,14])\n",
    "print(\"g=\", g)\n",
    "print(\"f % g=\", f % g)\n"
   ],
   "id": "f296f29c-5a5e-4f68-bd83-efcfe3d55e14"
  },
  {
   "cell_type": "markdown",
   "metadata": {},
   "source": [
    "Since the remainder `f % g` is non-zero we know $g \\nmid f$.\n",
    "\n",
    "Let's change tack and check if $f$ has any roots; we'll do this the\n",
    "naive way and simply loop over the elements of the coefficient\n",
    "field $\\mathbb{F}_{19}$, evaluate the polynomial and check whether the\n",
    "result is zero."
   ],
   "id": "ec4b9783-9783-4f7b-a05d-066c94c370b5"
  },
  {
   "cell_type": "code",
   "execution_count": null,
   "metadata": {},
   "outputs": [],
   "source": [
    "for t in L:\n",
    "    if f.eval(t).is_zero():\n",
    "        print(\"f has root\", t)\n",
    "    else:\n",
    "        print(t, \"is not a root of f\")\n"
   ],
   "id": "062ce4ed-8874-44b6-8c5b-ffce930a8262"
  },
  {
   "cell_type": "markdown",
   "metadata": {},
   "source": [
    "``` example\n",
    "0 is not a root of f\n",
    "1 is not a root of f\n",
    "2 is not a root of f\n",
    "3 is not a root of f\n",
    "4 is not a root of f\n",
    "5 is not a root of f\n",
    "6 is not a root of f\n",
    "7 is not a root of f\n",
    "8 is not a root of f\n",
    "9 is not a root of f\n",
    "10 is not a root of f\n",
    "11 is not a root of f\n",
    "12 is not a root of f\n",
    "13 is not a root of f\n",
    "14 is not a root of f\n",
    "15 is not a root of f\n",
    "16 is not a root of f\n",
    "17 is not a root of f\n",
    "18 is not a root of f\n",
    "```\n",
    "\n",
    "So $f$ has no roots. This actually means that $f$ is irreducible (since\n",
    "$\\deg(f) =3$), and thus can't possibly have a common factor with $g$\n",
    "(such a factor, if non-trivial, would be of degree 1 or 2).\n",
    "\n",
    "## How many polynomials have more than one root?\n",
    "\n",
    "Just for fun, and totally unrelated to the above, let's find the roots\n",
    "(if any) of a higher-degree polynomial:"
   ],
   "id": "0575b0d3-7c82-414b-a1b0-e243d6b90e02"
  },
  {
   "cell_type": "code",
   "execution_count": null,
   "metadata": {},
   "outputs": [],
   "source": [
    "h = T([6,2,4,2,0,1,15,1])\n",
    "print(\"h=\", h)\n",
    "roots = []\n",
    "for t in L:\n",
    "    if h.eval(t).is_zero():\n",
    "        roots.append(str(t))\n",
    "print(\"Roots of h:\", roots)\n"
   ],
   "id": "cae43bef-4b73-4934-b339-f67177d79e7a"
  },
  {
   "cell_type": "markdown",
   "metadata": {},
   "source": [
    "It took me a while to find (by random experimentation) a polynomial with\n",
    "more than one root. So how likely is it that a polynomial has more than\n",
    "one root? Let's investigate this numerically, simply enumerating all\n",
    "polynomials and counting how many of the have more than one root. It's\n",
    "of course enough to deal with monic polynomials.\n",
    "\n",
    "We start with monic polynomials of degree 2 as a proof-of-concept:"
   ],
   "id": "6b249c02-4c77-4587-8fd8-5bd92ed9f591"
  },
  {
   "cell_type": "code",
   "execution_count": null,
   "metadata": {},
   "outputs": [],
   "source": [
    "num = 0\n",
    "tot = 0\n",
    "for a0 in L:\n",
    "    for a1 in L:\n",
    "        tot = tot + 1\n",
    "        h = T([a0,a1,1])\n",
    "        roots = []\n",
    "        for t in L:\n",
    "            if h.eval(t).is_zero():\n",
    "                roots.append(str(t))\n",
    "        if len(roots)>1:\n",
    "            num = num+1\n",
    "print(num, \"of\", tot, \"monic polynomials of degree 2 have more than one root\")\n"
   ],
   "id": "41824f53-5e45-4207-95ca-20ff00053456"
  },
  {
   "cell_type": "markdown",
   "metadata": {},
   "source": [
    "So about 47% of the tested polynomials have more than one root.\n",
    "\n",
    "And since that worked well, let's try with degree 3:"
   ],
   "id": "9351e60b-6c16-4f47-a5d3-055f6a3bbfc1"
  },
  {
   "cell_type": "code",
   "execution_count": null,
   "metadata": {},
   "outputs": [],
   "source": [
    "num = 0\n",
    "tot = 0\n",
    "for a0 in L:\n",
    "    for a1 in L:\n",
    "        for a2 in L:\n",
    "            tot = tot + 1\n",
    "            h = T([a0,a1,a2,1])\n",
    "            roots = []\n",
    "            for t in L:\n",
    "                if h.eval(t).is_zero():\n",
    "                    roots.append(str(t))\n",
    "            if len(roots)>1:\n",
    "                num = num+1\n",
    "print(num, \"of\", tot, \"monic polynomials of degree 3 have more than one root\")\n"
   ],
   "id": "44a20e6d-9481-4067-9578-f5dc73968db5"
  },
  {
   "cell_type": "markdown",
   "metadata": {},
   "source": [
    "So about 19% of the tested polynomials have more than one root!\n",
    "\n",
    "And how about degree 4?"
   ],
   "id": "ffe386f0-be98-458b-b22b-dbb78352d291"
  },
  {
   "cell_type": "code",
   "execution_count": null,
   "metadata": {},
   "outputs": [],
   "source": [
    "num = 0\n",
    "tot = 0\n",
    "for a0 in L:\n",
    "    for a1 in L:\n",
    "        for a2 in L:\n",
    "            for a3 in L:\n",
    "                tot = tot + 1\n",
    "                h = T([a0,a1,a2,a3,1])\n",
    "                roots = []\n",
    "                for t in L:\n",
    "                    if h.eval(t).is_zero():\n",
    "                        roots.append(str(t))\n",
    "                if len(roots)>1:\n",
    "                    num = num+1\n",
    "print(num, \"of\", tot, \"monic polynomials of degree 4 have more than one root\")\n"
   ],
   "id": "057f9831-56da-4867-b949-afb3e8fc44b3"
  },
  {
   "cell_type": "markdown",
   "metadata": {},
   "source": [
    "That's a whopping 28% of polynomials with at least one root.\n",
    "\n",
    "**Suggestion**: Try polynomials of degree 5, or even degree 6. Computing\n",
    "times will become quite noticeable but still bearable (I think). What's\n",
    "your prediction?"
   ],
   "id": "b5693dc9-0cf7-431b-99e0-4aefd831cdf1"
  }
 ],
 "nbformat": 4,
 "nbformat_minor": 5,
 "metadata": {}
}
